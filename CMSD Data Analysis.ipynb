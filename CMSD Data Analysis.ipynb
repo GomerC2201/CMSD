{
 "cells": [
  {
   "cell_type": "markdown",
   "id": "1701e022",
   "metadata": {},
   "source": [
    "# CMSD Data Analyst Skills Assessment\n",
    "In this notebook, I will outline my overall data preparation process. This environment is setup using Python, however, all of my queries will use SQL and the data is stored in a SQLite db on my computer.\n",
    "\n",
    "I have the steps below, however, my general process was to check through the data (this was also done in Excel, and later in Tableau), then form Unions from each file type. I found this process to be a bit more straightforward since I was able to immediately check whether I had the data I wanted from each of the three main spreadsheet types I used from the Ohio State Report Card site.\n",
    "\n",
    "Once the unions were completed, I joined all of the tables into one final output table, and then moved onto working in Tableau.\n",
    "\n",
    "## General Steps\n",
    "1) Download and verify files from https://reportcard.education.ohio.gov/download\n",
    "2) Convert files to .csv format and create tables in SQLite (I used DB Browser for SQLite for this step)\n",
    "3) Create Jupyter SQL environment and connect to db\n",
    "4) Filter data based on specified requirements - School Years and District IRN (043786)\n",
    "5) Final query csv ouput file with 6 required columns"
   ]
  },
  {
   "cell_type": "code",
   "execution_count": 210,
   "id": "1e6d45db",
   "metadata": {},
   "outputs": [],
   "source": [
    "%%capture\n",
    "!pip install ipython-sql\n",
    "!pip install sqlalchemy"
   ]
  },
  {
   "cell_type": "code",
   "execution_count": 23,
   "id": "3176e01b",
   "metadata": {},
   "outputs": [
    {
     "data": {
      "application/json": {
       "cell": {
        "!": "OSMagics",
        "HTML": "Other",
        "SVG": "Other",
        "bash": "Other",
        "capture": "ExecutionMagics",
        "debug": "ExecutionMagics",
        "file": "Other",
        "html": "DisplayMagics",
        "javascript": "DisplayMagics",
        "js": "DisplayMagics",
        "latex": "DisplayMagics",
        "markdown": "DisplayMagics",
        "perl": "Other",
        "prun": "ExecutionMagics",
        "pypy": "Other",
        "python": "Other",
        "python2": "Other",
        "python3": "Other",
        "ruby": "Other",
        "script": "ScriptMagics",
        "sh": "Other",
        "sql": "SqlMagic",
        "svg": "DisplayMagics",
        "sx": "OSMagics",
        "system": "OSMagics",
        "time": "ExecutionMagics",
        "timeit": "ExecutionMagics",
        "writefile": "OSMagics"
       },
       "line": {
        "alias": "OSMagics",
        "alias_magic": "BasicMagics",
        "autoawait": "AsyncMagics",
        "autocall": "AutoMagics",
        "automagic": "AutoMagics",
        "autosave": "KernelMagics",
        "bookmark": "OSMagics",
        "cat": "Other",
        "cd": "OSMagics",
        "clear": "KernelMagics",
        "colors": "BasicMagics",
        "conda": "PackagingMagics",
        "config": "ConfigMagics",
        "connect_info": "KernelMagics",
        "cp": "Other",
        "debug": "ExecutionMagics",
        "dhist": "OSMagics",
        "dirs": "OSMagics",
        "doctest_mode": "BasicMagics",
        "ed": "Other",
        "edit": "KernelMagics",
        "env": "OSMagics",
        "gui": "BasicMagics",
        "hist": "Other",
        "history": "HistoryMagics",
        "killbgscripts": "ScriptMagics",
        "ldir": "Other",
        "less": "KernelMagics",
        "lf": "Other",
        "lk": "Other",
        "ll": "Other",
        "load": "CodeMagics",
        "load_ext": "ExtensionMagics",
        "loadpy": "CodeMagics",
        "logoff": "LoggingMagics",
        "logon": "LoggingMagics",
        "logstart": "LoggingMagics",
        "logstate": "LoggingMagics",
        "logstop": "LoggingMagics",
        "ls": "Other",
        "lsmagic": "BasicMagics",
        "lx": "Other",
        "macro": "ExecutionMagics",
        "magic": "BasicMagics",
        "man": "KernelMagics",
        "matplotlib": "PylabMagics",
        "mkdir": "Other",
        "more": "KernelMagics",
        "mv": "Other",
        "notebook": "BasicMagics",
        "page": "BasicMagics",
        "pastebin": "CodeMagics",
        "pdb": "ExecutionMagics",
        "pdef": "NamespaceMagics",
        "pdoc": "NamespaceMagics",
        "pfile": "NamespaceMagics",
        "pinfo": "NamespaceMagics",
        "pinfo2": "NamespaceMagics",
        "pip": "PackagingMagics",
        "popd": "OSMagics",
        "pprint": "BasicMagics",
        "precision": "BasicMagics",
        "prun": "ExecutionMagics",
        "psearch": "NamespaceMagics",
        "psource": "NamespaceMagics",
        "pushd": "OSMagics",
        "pwd": "OSMagics",
        "pycat": "OSMagics",
        "pylab": "PylabMagics",
        "qtconsole": "KernelMagics",
        "quickref": "BasicMagics",
        "recall": "HistoryMagics",
        "rehashx": "OSMagics",
        "reload_ext": "ExtensionMagics",
        "rep": "Other",
        "rerun": "HistoryMagics",
        "reset": "NamespaceMagics",
        "reset_selective": "NamespaceMagics",
        "rm": "Other",
        "rmdir": "Other",
        "run": "ExecutionMagics",
        "save": "CodeMagics",
        "sc": "OSMagics",
        "set_env": "OSMagics",
        "sql": "SqlMagic",
        "store": "StoreMagics",
        "sx": "OSMagics",
        "system": "OSMagics",
        "tb": "ExecutionMagics",
        "time": "ExecutionMagics",
        "timeit": "ExecutionMagics",
        "unalias": "OSMagics",
        "unload_ext": "ExtensionMagics",
        "who": "NamespaceMagics",
        "who_ls": "NamespaceMagics",
        "whos": "NamespaceMagics",
        "xdel": "NamespaceMagics",
        "xmode": "BasicMagics"
       }
      },
      "text/plain": [
       "Available line magics:\n",
       "%alias  %alias_magic  %autoawait  %autocall  %automagic  %autosave  %bookmark  %cat  %cd  %clear  %colors  %conda  %config  %connect_info  %cp  %debug  %dhist  %dirs  %doctest_mode  %ed  %edit  %env  %gui  %hist  %history  %killbgscripts  %ldir  %less  %lf  %lk  %ll  %load  %load_ext  %loadpy  %logoff  %logon  %logstart  %logstate  %logstop  %ls  %lsmagic  %lx  %macro  %magic  %man  %matplotlib  %mkdir  %more  %mv  %notebook  %page  %pastebin  %pdb  %pdef  %pdoc  %pfile  %pinfo  %pinfo2  %pip  %popd  %pprint  %precision  %prun  %psearch  %psource  %pushd  %pwd  %pycat  %pylab  %qtconsole  %quickref  %recall  %rehashx  %reload_ext  %rep  %rerun  %reset  %reset_selective  %rm  %rmdir  %run  %save  %sc  %set_env  %sql  %store  %sx  %system  %tb  %time  %timeit  %unalias  %unload_ext  %who  %who_ls  %whos  %xdel  %xmode\n",
       "\n",
       "Available cell magics:\n",
       "%%!  %%HTML  %%SVG  %%bash  %%capture  %%debug  %%file  %%html  %%javascript  %%js  %%latex  %%markdown  %%perl  %%prun  %%pypy  %%python  %%python2  %%python3  %%ruby  %%script  %%sh  %%sql  %%svg  %%sx  %%system  %%time  %%timeit  %%writefile\n",
       "\n",
       "Automagic is ON, % prefix IS NOT needed for line magics."
      ]
     },
     "execution_count": 23,
     "metadata": {},
     "output_type": "execute_result"
    }
   ],
   "source": [
    "%lsmagic"
   ]
  },
  {
   "cell_type": "code",
   "execution_count": 1,
   "id": "dfdab825",
   "metadata": {},
   "outputs": [],
   "source": [
    "%%capture\n",
    "%load_ext sql\n",
    "# Establishing SQL environment and connecting to SQLite db\n",
    "import sqlalchemy\n",
    "sqlalchemy.create_engine(\"sqlite:///CMSD_db.db\")\n",
    "%sql sqlite:///CMSD_db.db  "
   ]
  },
  {
   "cell_type": "code",
   "execution_count": 2,
   "id": "9bc31ddf",
   "metadata": {},
   "outputs": [
    {
     "data": {
      "application/javascript": [
       "require(['notebook/js/codecell'], function (codecell) {\n",
       "    codecell.CodeCell.options_default.highlight_modes['magic_text/x-mssql'] = { 'reg': [/%?%sql/] };\n",
       "    Jupyter.notebook.events.one('kernel_ready.Kernel', function () {\n",
       "        Jupyter.notebook.get_cells().map(function (cell) {\n",
       "            if (cell.cell_type == 'code') { cell.auto_highlight(); }\n",
       "        });\n",
       "    });\n",
       "});\n"
      ],
      "text/plain": [
       "<IPython.core.display.Javascript object>"
      ]
     },
     "metadata": {},
     "output_type": "display_data"
    }
   ],
   "source": [
    "%%js\n",
    "require(['notebook/js/codecell'], function (codecell) {\n",
    "    codecell.CodeCell.options_default.highlight_modes['magic_text/x-mssql'] = { 'reg': [/%?%sql/] };\n",
    "    Jupyter.notebook.events.one('kernel_ready.Kernel', function () {\n",
    "        Jupyter.notebook.get_cells().map(function (cell) {\n",
    "            if (cell.cell_type == 'code') { cell.auto_highlight(); }\n",
    "        });\n",
    "    });\n",
    "});"
   ]
  },
  {
   "cell_type": "markdown",
   "id": "d2cbb7e7",
   "metadata": {},
   "source": [
    "## Achievement Building\n",
    "\n",
    "In this section, I am going to work on the three tables for Building Achievement.\n",
    "\n",
    "The general process will involve filtering by District IRN, removing unnecessary columns, and inserting a year column. Due to the nature of this project, I opted for using temporary tables since this was completed in one session, although this is achievable with views as well.\n",
    "\n",
    "Overall, I worked on each category separately to ensure my naming conventions were consistent, and that the data was comparable year to year. "
   ]
  },
  {
   "cell_type": "markdown",
   "id": "54d591c0",
   "metadata": {},
   "source": [
    "### Creating Temp Table for Achievement Building School Year 2015-2016"
   ]
  },
  {
   "cell_type": "code",
   "execution_count": 196,
   "id": "2e8dc301",
   "metadata": {
    "scrolled": true
   },
   "outputs": [
    {
     "name": "stdout",
     "output_type": "stream",
     "text": [
      " * sqlite:///CMSD_db.db\n",
      "Done.\n"
     ]
    },
    {
     "data": {
      "text/html": [
       "<table>\n",
       "    <tr>\n",
       "        <th>BuildingIRN</th>\n",
       "        <th>BuildingName</th>\n",
       "        <th>DistrictIRN</th>\n",
       "        <th>DistrictName</th>\n",
       "        <th>County</th>\n",
       "        <th>Region</th>\n",
       "        <th>Address</th>\n",
       "        <th>CityandZipCode</th>\n",
       "        <th>Phone#</th>\n",
       "        <th>Principal</th>\n",
       "        <th>PerformanceIndexScore2015-16</th>\n",
       "        <th>PerformanceIndexPercent2015-16</th>\n",
       "        <th>LetterGradeofPerformanceIndex</th>\n",
       "        <th>PercentofStudentsNotTested</th>\n",
       "        <th>PercentofStudentsBelow</th>\n",
       "        <th>PercentofStudentsBasic</th>\n",
       "        <th>PercentofStudentsProficient</th>\n",
       "        <th>PercentofStudentsAccelerated</th>\n",
       "        <th>PercentofStudentsAdvanced</th>\n",
       "        <th>PercentofStudentsAdvancedPlus</th>\n",
       "        <th>GiftedPerformanceIndexScore2015-16</th>\n",
       "        <th>GiftedPerformanceIndex2015-16</th>\n",
       "        <th>PercentofGiftedStudentsNotTested</th>\n",
       "        <th>PercentofGiftedStudentsBelow</th>\n",
       "        <th>PercentofGiftedStudentsBasic</th>\n",
       "        <th>PercentofGiftedStudentsProficient</th>\n",
       "        <th>PercentofGiftedStudentsAccelerated</th>\n",
       "        <th>PercentofGiftedStudentsAdvanced</th>\n",
       "        <th>PercentofGiftedStudentsAdvancedPlus</th>\n",
       "        <th>PerformanceIndexScore2014-15</th>\n",
       "        <th>PerformanceIndexScore2013-14</th>\n",
       "        <th>Watermark</th>\n",
       "    </tr>\n",
       "    <tr>\n",
       "        <td>224</td>\n",
       "        <td>Adlai Stevenson School</td>\n",
       "        <td>43786</td>\n",
       "        <td>Cleveland Municipal</td>\n",
       "        <td>Cuyahoga</td>\n",
       "        <td>Region 3</td>\n",
       "        <td>18300 Woda Avenue</td>\n",
       "        <td>Cleveland, OH, 44122-6441</td>\n",
       "        <td>(216) 482-2950</td>\n",
       "        <td>Christopher T. Wyland</td>\n",
       "        <td>43.903</td>\n",
       "        <td>36.6</td>\n",
       "        <td>F</td>\n",
       "        <td>0</td>\n",
       "        <td>69.9</td>\n",
       "        <td>19</td>\n",
       "        <td>7.6</td>\n",
       "        <td>2.5</td>\n",
       "        <td>1</td>\n",
       "        <td>0</td>\n",
       "        <td>NC</td>\n",
       "        <td>NC</td>\n",
       "        <td>NC</td>\n",
       "        <td>NC</td>\n",
       "        <td>NC</td>\n",
       "        <td>NC</td>\n",
       "        <td>NC</td>\n",
       "        <td>NC</td>\n",
       "        <td>NC</td>\n",
       "        <td>55.307</td>\n",
       "        <td>68.009</td>\n",
       "        <td>None</td>\n",
       "    </tr>\n",
       "    <tr>\n",
       "        <td>489</td>\n",
       "        <td>Almira</td>\n",
       "        <td>43786</td>\n",
       "        <td>Cleveland Municipal</td>\n",
       "        <td>Cuyahoga</td>\n",
       "        <td>Region 3</td>\n",
       "        <td>3375 W 99th St</td>\n",
       "        <td>Cleveland, OH, 44102-4642</td>\n",
       "        <td>(216) 838-6150</td>\n",
       "        <td>Laverne Hooks</td>\n",
       "        <td>46.384</td>\n",
       "        <td>38.7</td>\n",
       "        <td>F</td>\n",
       "        <td>0</td>\n",
       "        <td>66.2</td>\n",
       "        <td>19.2</td>\n",
       "        <td>10.9</td>\n",
       "        <td>3.2</td>\n",
       "        <td>0.5</td>\n",
       "        <td>0</td>\n",
       "        <td>NC</td>\n",
       "        <td>NC</td>\n",
       "        <td>NC</td>\n",
       "        <td>NC</td>\n",
       "        <td>NC</td>\n",
       "        <td>NC</td>\n",
       "        <td>NC</td>\n",
       "        <td>NC</td>\n",
       "        <td>NC</td>\n",
       "        <td>59.407</td>\n",
       "        <td>67.316</td>\n",
       "        <td>None</td>\n",
       "    </tr>\n",
       "    <tr>\n",
       "        <td>729</td>\n",
       "        <td>Andrew J Rickoff</td>\n",
       "        <td>43786</td>\n",
       "        <td>Cleveland Municipal</td>\n",
       "        <td>Cuyahoga</td>\n",
       "        <td>Region 3</td>\n",
       "        <td>3500 E 147th St</td>\n",
       "        <td>Cleveland, OH, 44120-4834</td>\n",
       "        <td>(216) 838-4150</td>\n",
       "        <td>Gloriane R. Smith</td>\n",
       "        <td>44.327</td>\n",
       "        <td>36.9</td>\n",
       "        <td>F</td>\n",
       "        <td>0.3</td>\n",
       "        <td>68.5</td>\n",
       "        <td>19.4</td>\n",
       "        <td>8.7</td>\n",
       "        <td>2.4</td>\n",
       "        <td>0.7</td>\n",
       "        <td>0</td>\n",
       "        <td>NC</td>\n",
       "        <td>NC</td>\n",
       "        <td>NC</td>\n",
       "        <td>NC</td>\n",
       "        <td>NC</td>\n",
       "        <td>NC</td>\n",
       "        <td>NC</td>\n",
       "        <td>NC</td>\n",
       "        <td>NC</td>\n",
       "        <td>51.929</td>\n",
       "        <td>62.727</td>\n",
       "        <td>None</td>\n",
       "    </tr>\n",
       "</table>"
      ],
      "text/plain": [
       "[(224, 'Adlai Stevenson School', 43786, 'Cleveland Municipal', 'Cuyahoga', 'Region 3', '18300 Woda Avenue', 'Cleveland, OH, 44122-6441', '(216) 482-2950', 'Christopher T. Wyland', '43.903', '36.6', 'F', '0', '69.9', '19', '7.6', '2.5', '1', '0', 'NC', 'NC', 'NC', 'NC', 'NC', 'NC', 'NC', 'NC', 'NC', '55.307', '68.009', None),\n",
       " (489, 'Almira', 43786, 'Cleveland Municipal', 'Cuyahoga', 'Region 3', '3375 W 99th St', 'Cleveland, OH, 44102-4642', '(216) 838-6150', 'Laverne Hooks', '46.384', '38.7', 'F', '0', '66.2', '19.2', '10.9', '3.2', '0.5', '0', 'NC', 'NC', 'NC', 'NC', 'NC', 'NC', 'NC', 'NC', 'NC', '59.407', '67.316', None),\n",
       " (729, 'Andrew J Rickoff', 43786, 'Cleveland Municipal', 'Cuyahoga', 'Region 3', '3500 E 147th St', 'Cleveland, OH, 44120-4834', '(216) 838-4150', 'Gloriane R. Smith', '44.327', '36.9', 'F', '0.3', '68.5', '19.4', '8.7', '2.4', '0.7', '0', 'NC', 'NC', 'NC', 'NC', 'NC', 'NC', 'NC', 'NC', 'NC', '51.929', '62.727', None)]"
      ]
     },
     "execution_count": 196,
     "metadata": {},
     "output_type": "execute_result"
    }
   ],
   "source": [
    "%%sql\n",
    "SELECT *\n",
    "FROM Achievement_Building_1516\n",
    "WHERE DistrictIRN = '043786'\n",
    "LIMIT 3\n",
    "\n",
    "/*Just a basic query to check everything is working as intended before making temporary tables"
   ]
  },
  {
   "cell_type": "code",
   "execution_count": 24,
   "id": "58bc4b7a",
   "metadata": {},
   "outputs": [
    {
     "name": "stdout",
     "output_type": "stream",
     "text": [
      " * sqlite:///CMSD_db.db\n",
      "Done.\n",
      "0 rows affected.\n"
     ]
    },
    {
     "data": {
      "text/plain": [
       "[]"
      ]
     },
     "execution_count": 24,
     "metadata": {},
     "output_type": "execute_result"
    }
   ],
   "source": [
    "%%sql\n",
    "CREATE TEMPORARY TABLE Temp_Achievement_Building_1516 AS\n",
    "SELECT \"BuildingIRN\", \"BuildingName\", \"DistrictIRN\", \"DistrictName\", \"PerformanceIndexScore2015-16\" AS \"PerformanceIndexScore\", \"PerformanceIndexPercent2015-16\" AS \"PerformanceIndexPercent\", \"LetterGradeofPerformanceIndex\", \"PercentofStudentsBelow\", \"PercentofStudentsBasic\", \"PercentofStudentsProficient\", \"PercentofStudentsAccelerated\", \"PercentofStudentsAdvanced\", \"PercentofStudentsAdvancedPlus\", '2015-2016' AS SchoolYear\n",
    "FROM Achievement_Building_1516\n",
    "WHERE \"DistrictIRN\" = '043786';\n",
    "/* In this temp table, I isolated the columns I wanted to keep and added a school year column for organization.\n",
    "Additionally, I some extra columns for checking and possible analysis to explore later on.\n",
    "Lastly, I used quotations around all of the column names for consistency due to irregular naming."
   ]
  },
  {
   "cell_type": "code",
   "execution_count": 56,
   "id": "81b81205",
   "metadata": {
    "scrolled": true
   },
   "outputs": [
    {
     "name": "stdout",
     "output_type": "stream",
     "text": [
      " * sqlite:///CMSD_db.db\n",
      "Done.\n"
     ]
    },
    {
     "data": {
      "text/plain": [
       "[]"
      ]
     },
     "execution_count": 56,
     "metadata": {},
     "output_type": "execute_result"
    }
   ],
   "source": [
    "%%sql\n",
    "DROP TABLE IF EXISTS Temp_Building_Ratings_1617"
   ]
  },
  {
   "cell_type": "code",
   "execution_count": 25,
   "id": "eb09306c",
   "metadata": {},
   "outputs": [
    {
     "name": "stdout",
     "output_type": "stream",
     "text": [
      " * sqlite:///CMSD_db.db\n",
      "Done.\n"
     ]
    },
    {
     "data": {
      "text/html": [
       "<table>\n",
       "    <tr>\n",
       "        <th>cid</th>\n",
       "        <th>name</th>\n",
       "        <th>type</th>\n",
       "        <th>notnull</th>\n",
       "        <th>dflt_value</th>\n",
       "        <th>pk</th>\n",
       "    </tr>\n",
       "    <tr>\n",
       "        <td>0</td>\n",
       "        <td>BuildingIRN</td>\n",
       "        <td>INT</td>\n",
       "        <td>0</td>\n",
       "        <td>None</td>\n",
       "        <td>0</td>\n",
       "    </tr>\n",
       "    <tr>\n",
       "        <td>1</td>\n",
       "        <td>BuildingName</td>\n",
       "        <td>TEXT</td>\n",
       "        <td>0</td>\n",
       "        <td>None</td>\n",
       "        <td>0</td>\n",
       "    </tr>\n",
       "    <tr>\n",
       "        <td>2</td>\n",
       "        <td>DistrictIRN</td>\n",
       "        <td>INT</td>\n",
       "        <td>0</td>\n",
       "        <td>None</td>\n",
       "        <td>0</td>\n",
       "    </tr>\n",
       "    <tr>\n",
       "        <td>3</td>\n",
       "        <td>DistrictName</td>\n",
       "        <td>TEXT</td>\n",
       "        <td>0</td>\n",
       "        <td>None</td>\n",
       "        <td>0</td>\n",
       "    </tr>\n",
       "    <tr>\n",
       "        <td>4</td>\n",
       "        <td>PerformanceIndexScore</td>\n",
       "        <td>TEXT</td>\n",
       "        <td>0</td>\n",
       "        <td>None</td>\n",
       "        <td>0</td>\n",
       "    </tr>\n",
       "    <tr>\n",
       "        <td>5</td>\n",
       "        <td>PerformanceIndexPercent</td>\n",
       "        <td>TEXT</td>\n",
       "        <td>0</td>\n",
       "        <td>None</td>\n",
       "        <td>0</td>\n",
       "    </tr>\n",
       "    <tr>\n",
       "        <td>6</td>\n",
       "        <td>LetterGradeofPerformanceIndex</td>\n",
       "        <td>TEXT</td>\n",
       "        <td>0</td>\n",
       "        <td>None</td>\n",
       "        <td>0</td>\n",
       "    </tr>\n",
       "    <tr>\n",
       "        <td>7</td>\n",
       "        <td>PercentofStudentsBelow</td>\n",
       "        <td>TEXT</td>\n",
       "        <td>0</td>\n",
       "        <td>None</td>\n",
       "        <td>0</td>\n",
       "    </tr>\n",
       "    <tr>\n",
       "        <td>8</td>\n",
       "        <td>PercentofStudentsBasic</td>\n",
       "        <td>TEXT</td>\n",
       "        <td>0</td>\n",
       "        <td>None</td>\n",
       "        <td>0</td>\n",
       "    </tr>\n",
       "    <tr>\n",
       "        <td>9</td>\n",
       "        <td>PercentofStudentsProficient</td>\n",
       "        <td>TEXT</td>\n",
       "        <td>0</td>\n",
       "        <td>None</td>\n",
       "        <td>0</td>\n",
       "    </tr>\n",
       "    <tr>\n",
       "        <td>10</td>\n",
       "        <td>PercentofStudentsAccelerated</td>\n",
       "        <td>TEXT</td>\n",
       "        <td>0</td>\n",
       "        <td>None</td>\n",
       "        <td>0</td>\n",
       "    </tr>\n",
       "    <tr>\n",
       "        <td>11</td>\n",
       "        <td>PercentofStudentsAdvanced</td>\n",
       "        <td>TEXT</td>\n",
       "        <td>0</td>\n",
       "        <td>None</td>\n",
       "        <td>0</td>\n",
       "    </tr>\n",
       "    <tr>\n",
       "        <td>12</td>\n",
       "        <td>PercentofStudentsAdvancedPlus</td>\n",
       "        <td>TEXT</td>\n",
       "        <td>0</td>\n",
       "        <td>None</td>\n",
       "        <td>0</td>\n",
       "    </tr>\n",
       "    <tr>\n",
       "        <td>13</td>\n",
       "        <td>SchoolYear</td>\n",
       "        <td></td>\n",
       "        <td>0</td>\n",
       "        <td>None</td>\n",
       "        <td>0</td>\n",
       "    </tr>\n",
       "</table>"
      ],
      "text/plain": [
       "[(0, 'BuildingIRN', 'INT', 0, None, 0),\n",
       " (1, 'BuildingName', 'TEXT', 0, None, 0),\n",
       " (2, 'DistrictIRN', 'INT', 0, None, 0),\n",
       " (3, 'DistrictName', 'TEXT', 0, None, 0),\n",
       " (4, 'PerformanceIndexScore', 'TEXT', 0, None, 0),\n",
       " (5, 'PerformanceIndexPercent', 'TEXT', 0, None, 0),\n",
       " (6, 'LetterGradeofPerformanceIndex', 'TEXT', 0, None, 0),\n",
       " (7, 'PercentofStudentsBelow', 'TEXT', 0, None, 0),\n",
       " (8, 'PercentofStudentsBasic', 'TEXT', 0, None, 0),\n",
       " (9, 'PercentofStudentsProficient', 'TEXT', 0, None, 0),\n",
       " (10, 'PercentofStudentsAccelerated', 'TEXT', 0, None, 0),\n",
       " (11, 'PercentofStudentsAdvanced', 'TEXT', 0, None, 0),\n",
       " (12, 'PercentofStudentsAdvancedPlus', 'TEXT', 0, None, 0),\n",
       " (13, 'SchoolYear', '', 0, None, 0)]"
      ]
     },
     "execution_count": 25,
     "metadata": {},
     "output_type": "execute_result"
    }
   ],
   "source": [
    "%%sql\n",
    "PRAGMA table_info(Temp_Achievement_Building_1516)\n",
    "/* This Temp Table has everything I intended, additional columns might be added later, \n",
    "but it looks pretty good from here."
   ]
  },
  {
   "cell_type": "code",
   "execution_count": 211,
   "id": "0f28c250",
   "metadata": {},
   "outputs": [
    {
     "name": "stdout",
     "output_type": "stream",
     "text": [
      " * sqlite:///CMSD_db.db\n",
      "Done.\n"
     ]
    },
    {
     "data": {
      "text/html": [
       "<table>\n",
       "    <tr>\n",
       "        <th>BuildingIRN</th>\n",
       "        <th>BuildingName</th>\n",
       "        <th>DistrictIRN</th>\n",
       "        <th>DistrictName</th>\n",
       "        <th>PerformanceIndexScore</th>\n",
       "        <th>PerformanceIndexPercent</th>\n",
       "        <th>LetterGradeofPerformanceIndex</th>\n",
       "        <th>PercentofStudentsBelow</th>\n",
       "        <th>PercentofStudentsBasic</th>\n",
       "        <th>PercentofStudentsProficient</th>\n",
       "        <th>PercentofStudentsAccelerated</th>\n",
       "        <th>PercentofStudentsAdvanced</th>\n",
       "        <th>PercentofStudentsAdvancedPlus</th>\n",
       "        <th>SchoolYear</th>\n",
       "    </tr>\n",
       "    <tr>\n",
       "        <td>224</td>\n",
       "        <td>Adlai Stevenson School</td>\n",
       "        <td>43786</td>\n",
       "        <td>Cleveland Municipal</td>\n",
       "        <td>43.903</td>\n",
       "        <td>36.6</td>\n",
       "        <td>F</td>\n",
       "        <td>69.9</td>\n",
       "        <td>19</td>\n",
       "        <td>7.6</td>\n",
       "        <td>2.5</td>\n",
       "        <td>1</td>\n",
       "        <td>0</td>\n",
       "        <td>2015-2016</td>\n",
       "    </tr>\n",
       "</table>"
      ],
      "text/plain": [
       "[(224, 'Adlai Stevenson School', 43786, 'Cleveland Municipal', '43.903', '36.6', 'F', '69.9', '19', '7.6', '2.5', '1', '0', '2015-2016')]"
      ]
     },
     "execution_count": 211,
     "metadata": {},
     "output_type": "execute_result"
    }
   ],
   "source": [
    "%%sql\n",
    "SELECT *\n",
    "FROM Temp_Achievement_Building_1516\n",
    "WHERE DistrictIRN = '043786'\n",
    "LIMIT 1"
   ]
  },
  {
   "cell_type": "code",
   "execution_count": 35,
   "id": "047f6aa4",
   "metadata": {},
   "outputs": [
    {
     "name": "stdout",
     "output_type": "stream",
     "text": [
      " * sqlite:///CMSD_db.db\n",
      "Done.\n"
     ]
    },
    {
     "data": {
      "text/html": [
       "<table>\n",
       "    <tr>\n",
       "        <th>building</th>\n",
       "        <th>District</th>\n",
       "        <th>Name</th>\n",
       "    </tr>\n",
       "    <tr>\n",
       "        <td>101</td>\n",
       "        <td>1</td>\n",
       "        <td>1</td>\n",
       "    </tr>\n",
       "</table>"
      ],
      "text/plain": [
       "[(101, 1, 1)]"
      ]
     },
     "execution_count": 35,
     "metadata": {},
     "output_type": "execute_result"
    }
   ],
   "source": [
    "%%sql\n",
    "SELECT COUNT (DISTINCT BuildingIRN) AS building, COUNT (DISTINCT DistrictIRN) AS District, COUNT (DISTINCT DistrictName) AS Name\n",
    "FROM Temp_Achievement_Building_1516\n",
    "/* Checking to make sure I have the desired results for DistrictIRN and DistrictName. I included DistrictName as \n",
    "a second layer/additional means of checking that I only had Cleveland Schools. At this point, due to the low\n",
    "record count, I also double checked that this was the correct result in Excel to confirm before moving forward."
   ]
  },
  {
   "cell_type": "markdown",
   "id": "9c932309",
   "metadata": {},
   "source": [
    "### Creating Temp Table for Achievement Building School Year 2016-2017"
   ]
  },
  {
   "cell_type": "code",
   "execution_count": 212,
   "id": "4c2b201b",
   "metadata": {},
   "outputs": [
    {
     "name": "stdout",
     "output_type": "stream",
     "text": [
      " * sqlite:///CMSD_db.db\n",
      "Done.\n"
     ]
    },
    {
     "data": {
      "text/html": [
       "<table>\n",
       "    <tr>\n",
       "        <th>BuildingIRN</th>\n",
       "        <th>BuildingName</th>\n",
       "        <th>DistrictIRN</th>\n",
       "        <th>DistrictName</th>\n",
       "        <th>County</th>\n",
       "        <th>Region</th>\n",
       "        <th>Address</th>\n",
       "        <th>CityandZipCode</th>\n",
       "        <th>Phone#</th>\n",
       "        <th>Principal</th>\n",
       "        <th>PerformanceIndexScore2016-17</th>\n",
       "        <th>PerformanceIndexPercent2016-17</th>\n",
       "        <th>LetterGradeofPerformanceIndex</th>\n",
       "        <th>PercentofStudentsNotTested</th>\n",
       "        <th>PercentofStudentsBelow</th>\n",
       "        <th>PercentofStudentsBasic</th>\n",
       "        <th>PercentofStudentsProficient</th>\n",
       "        <th>PercentofStudentsAccelerated</th>\n",
       "        <th>PercentofStudentsAdvanced</th>\n",
       "        <th>PercentofStudentsAdvancedPlus</th>\n",
       "        <th>GiftedPerformanceIndexScore2016-17</th>\n",
       "        <th>GiftedPerformanceIndex2016-17</th>\n",
       "        <th>PercentofGiftedStudentsNotTested</th>\n",
       "        <th>PercentofGiftedStudentsBelow</th>\n",
       "        <th>PercentofGiftedStudentsBasic</th>\n",
       "        <th>PercentofGiftedStudentsProficient</th>\n",
       "        <th>PercentofGiftedStudentsAccelerated</th>\n",
       "        <th>PercentofGiftedStudentsAdvanced</th>\n",
       "        <th>PercentofGiftedStudentsAdvancedPlus</th>\n",
       "        <th>PerformanceIndexScore2015-16</th>\n",
       "        <th>PerformanceIndexScore2014-15</th>\n",
       "        <th>Watermark</th>\n",
       "    </tr>\n",
       "    <tr>\n",
       "        <td>224</td>\n",
       "        <td>Adlai Stevenson School</td>\n",
       "        <td>43786</td>\n",
       "        <td>Cleveland Municipal</td>\n",
       "        <td>Cuyahoga</td>\n",
       "        <td>Region 3</td>\n",
       "        <td>18300 Woda Avenue</td>\n",
       "        <td>Cleveland, OH, 44122-6441</td>\n",
       "        <td>(216) 838-5300</td>\n",
       "        <td>Christopher T. Wyland</td>\n",
       "        <td>49.271</td>\n",
       "        <td>41.1</td>\n",
       "        <td>F</td>\n",
       "        <td>0.2</td>\n",
       "        <td>60.4</td>\n",
       "        <td>22.5</td>\n",
       "        <td>10.8</td>\n",
       "        <td>5.4</td>\n",
       "        <td>0.8</td>\n",
       "        <td>0.0</td>\n",
       "        <td>NC</td>\n",
       "        <td>NC</td>\n",
       "        <td>0.0</td>\n",
       "        <td>33.3</td>\n",
       "        <td>11.1</td>\n",
       "        <td>11.1</td>\n",
       "        <td>33.3</td>\n",
       "        <td>11.1</td>\n",
       "        <td>0.0</td>\n",
       "        <td>43.903</td>\n",
       "        <td>55.307</td>\n",
       "        <td>None</td>\n",
       "    </tr>\n",
       "</table>"
      ],
      "text/plain": [
       "[(224, 'Adlai Stevenson School', 43786, 'Cleveland Municipal', 'Cuyahoga', 'Region 3', '18300 Woda Avenue', 'Cleveland, OH, 44122-6441', '(216) 838-5300', 'Christopher T. Wyland', '49.271', '41.1', 'F', '0.2', '60.4', '22.5', '10.8', '5.4', '0.8', '0.0', 'NC', 'NC', '0.0', '33.3', '11.1', '11.1', '33.3', '11.1', '0.0', '43.903', '55.307', None)]"
      ]
     },
     "execution_count": 212,
     "metadata": {},
     "output_type": "execute_result"
    }
   ],
   "source": [
    "%%sql\n",
    "SELECT *\n",
    "FROM Achievement_Building_1617\n",
    "WHERE DistrictIRN = '043786'\n",
    "LIMIT 1"
   ]
  },
  {
   "cell_type": "code",
   "execution_count": 27,
   "id": "54f83982",
   "metadata": {},
   "outputs": [
    {
     "name": "stdout",
     "output_type": "stream",
     "text": [
      " * sqlite:///CMSD_db.db\n",
      "Done.\n"
     ]
    },
    {
     "data": {
      "text/plain": [
       "[]"
      ]
     },
     "execution_count": 27,
     "metadata": {},
     "output_type": "execute_result"
    }
   ],
   "source": [
    "%%sql\n",
    "CREATE TEMPORARY TABLE Temp_Achievement_Building_1617 AS\n",
    "SELECT \"BuildingIRN\", \"BuildingName\", \"DistrictIRN\", \"DistrictName\", \"PerformanceIndexScore2016-17\" AS \"PerformanceIndexScore\", \"PerformanceIndexPercent2016-17\" AS \"PerformanceIndexPercent\", \"LetterGradeofPerformanceIndex\", \"PercentofStudentsBelow\", \"PercentofStudentsBasic\", \"PercentofStudentsProficient\", \"PercentofStudentsAccelerated\", \"PercentofStudentsAdvanced\", \"PercentofStudentsAdvancedPlus\", '2016-2017' AS SchoolYear\n",
    "FROM Achievement_Building_1617\n",
    "WHERE \"DistrictIRN\" = '043786';"
   ]
  },
  {
   "cell_type": "code",
   "execution_count": 38,
   "id": "a2ebbdd2",
   "metadata": {},
   "outputs": [
    {
     "name": "stdout",
     "output_type": "stream",
     "text": [
      " * sqlite:///CMSD_db.db\n",
      "Done.\n"
     ]
    },
    {
     "data": {
      "text/html": [
       "<table>\n",
       "    <tr>\n",
       "        <th>cid</th>\n",
       "        <th>name</th>\n",
       "        <th>type</th>\n",
       "        <th>notnull</th>\n",
       "        <th>dflt_value</th>\n",
       "        <th>pk</th>\n",
       "    </tr>\n",
       "    <tr>\n",
       "        <td>0</td>\n",
       "        <td>BuildingIRN</td>\n",
       "        <td>INT</td>\n",
       "        <td>0</td>\n",
       "        <td>None</td>\n",
       "        <td>0</td>\n",
       "    </tr>\n",
       "    <tr>\n",
       "        <td>1</td>\n",
       "        <td>BuildingName</td>\n",
       "        <td>TEXT</td>\n",
       "        <td>0</td>\n",
       "        <td>None</td>\n",
       "        <td>0</td>\n",
       "    </tr>\n",
       "    <tr>\n",
       "        <td>2</td>\n",
       "        <td>DistrictIRN</td>\n",
       "        <td>INT</td>\n",
       "        <td>0</td>\n",
       "        <td>None</td>\n",
       "        <td>0</td>\n",
       "    </tr>\n",
       "    <tr>\n",
       "        <td>3</td>\n",
       "        <td>DistrictName</td>\n",
       "        <td>TEXT</td>\n",
       "        <td>0</td>\n",
       "        <td>None</td>\n",
       "        <td>0</td>\n",
       "    </tr>\n",
       "    <tr>\n",
       "        <td>4</td>\n",
       "        <td>PerformanceIndexScore</td>\n",
       "        <td>TEXT</td>\n",
       "        <td>0</td>\n",
       "        <td>None</td>\n",
       "        <td>0</td>\n",
       "    </tr>\n",
       "    <tr>\n",
       "        <td>5</td>\n",
       "        <td>PerformanceIndexPercent</td>\n",
       "        <td>TEXT</td>\n",
       "        <td>0</td>\n",
       "        <td>None</td>\n",
       "        <td>0</td>\n",
       "    </tr>\n",
       "    <tr>\n",
       "        <td>6</td>\n",
       "        <td>LetterGradeofPerformanceIndex</td>\n",
       "        <td>TEXT</td>\n",
       "        <td>0</td>\n",
       "        <td>None</td>\n",
       "        <td>0</td>\n",
       "    </tr>\n",
       "    <tr>\n",
       "        <td>7</td>\n",
       "        <td>PercentofStudentsBelow</td>\n",
       "        <td>TEXT</td>\n",
       "        <td>0</td>\n",
       "        <td>None</td>\n",
       "        <td>0</td>\n",
       "    </tr>\n",
       "    <tr>\n",
       "        <td>8</td>\n",
       "        <td>PercentofStudentsBasic</td>\n",
       "        <td>TEXT</td>\n",
       "        <td>0</td>\n",
       "        <td>None</td>\n",
       "        <td>0</td>\n",
       "    </tr>\n",
       "    <tr>\n",
       "        <td>9</td>\n",
       "        <td>PercentofStudentsProficient</td>\n",
       "        <td>TEXT</td>\n",
       "        <td>0</td>\n",
       "        <td>None</td>\n",
       "        <td>0</td>\n",
       "    </tr>\n",
       "    <tr>\n",
       "        <td>10</td>\n",
       "        <td>PercentofStudentsAccelerated</td>\n",
       "        <td>TEXT</td>\n",
       "        <td>0</td>\n",
       "        <td>None</td>\n",
       "        <td>0</td>\n",
       "    </tr>\n",
       "    <tr>\n",
       "        <td>11</td>\n",
       "        <td>PercentofStudentsAdvanced</td>\n",
       "        <td>TEXT</td>\n",
       "        <td>0</td>\n",
       "        <td>None</td>\n",
       "        <td>0</td>\n",
       "    </tr>\n",
       "    <tr>\n",
       "        <td>12</td>\n",
       "        <td>PercentofStudentsAdvancedPlus</td>\n",
       "        <td>TEXT</td>\n",
       "        <td>0</td>\n",
       "        <td>None</td>\n",
       "        <td>0</td>\n",
       "    </tr>\n",
       "    <tr>\n",
       "        <td>13</td>\n",
       "        <td>SchoolYear</td>\n",
       "        <td></td>\n",
       "        <td>0</td>\n",
       "        <td>None</td>\n",
       "        <td>0</td>\n",
       "    </tr>\n",
       "</table>"
      ],
      "text/plain": [
       "[(0, 'BuildingIRN', 'INT', 0, None, 0),\n",
       " (1, 'BuildingName', 'TEXT', 0, None, 0),\n",
       " (2, 'DistrictIRN', 'INT', 0, None, 0),\n",
       " (3, 'DistrictName', 'TEXT', 0, None, 0),\n",
       " (4, 'PerformanceIndexScore', 'TEXT', 0, None, 0),\n",
       " (5, 'PerformanceIndexPercent', 'TEXT', 0, None, 0),\n",
       " (6, 'LetterGradeofPerformanceIndex', 'TEXT', 0, None, 0),\n",
       " (7, 'PercentofStudentsBelow', 'TEXT', 0, None, 0),\n",
       " (8, 'PercentofStudentsBasic', 'TEXT', 0, None, 0),\n",
       " (9, 'PercentofStudentsProficient', 'TEXT', 0, None, 0),\n",
       " (10, 'PercentofStudentsAccelerated', 'TEXT', 0, None, 0),\n",
       " (11, 'PercentofStudentsAdvanced', 'TEXT', 0, None, 0),\n",
       " (12, 'PercentofStudentsAdvancedPlus', 'TEXT', 0, None, 0),\n",
       " (13, 'SchoolYear', '', 0, None, 0)]"
      ]
     },
     "execution_count": 38,
     "metadata": {},
     "output_type": "execute_result"
    }
   ],
   "source": [
    "%%sql\n",
    "PRAGMA table_info(Temp_Achievement_Building_1617)"
   ]
  },
  {
   "cell_type": "code",
   "execution_count": 213,
   "id": "e0ca977a",
   "metadata": {},
   "outputs": [
    {
     "name": "stdout",
     "output_type": "stream",
     "text": [
      " * sqlite:///CMSD_db.db\n",
      "Done.\n"
     ]
    },
    {
     "data": {
      "text/html": [
       "<table>\n",
       "    <tr>\n",
       "        <th>BuildingIRN</th>\n",
       "        <th>BuildingName</th>\n",
       "        <th>DistrictIRN</th>\n",
       "        <th>DistrictName</th>\n",
       "        <th>PerformanceIndexScore</th>\n",
       "        <th>PerformanceIndexPercent</th>\n",
       "        <th>LetterGradeofPerformanceIndex</th>\n",
       "        <th>PercentofStudentsBelow</th>\n",
       "        <th>PercentofStudentsBasic</th>\n",
       "        <th>PercentofStudentsProficient</th>\n",
       "        <th>PercentofStudentsAccelerated</th>\n",
       "        <th>PercentofStudentsAdvanced</th>\n",
       "        <th>PercentofStudentsAdvancedPlus</th>\n",
       "        <th>SchoolYear</th>\n",
       "    </tr>\n",
       "    <tr>\n",
       "        <td>224</td>\n",
       "        <td>Adlai Stevenson School</td>\n",
       "        <td>43786</td>\n",
       "        <td>Cleveland Municipal</td>\n",
       "        <td>49.271</td>\n",
       "        <td>41.1</td>\n",
       "        <td>F</td>\n",
       "        <td>60.4</td>\n",
       "        <td>22.5</td>\n",
       "        <td>10.8</td>\n",
       "        <td>5.4</td>\n",
       "        <td>0.8</td>\n",
       "        <td>0.0</td>\n",
       "        <td>2016-2017</td>\n",
       "    </tr>\n",
       "</table>"
      ],
      "text/plain": [
       "[(224, 'Adlai Stevenson School', 43786, 'Cleveland Municipal', '49.271', '41.1', 'F', '60.4', '22.5', '10.8', '5.4', '0.8', '0.0', '2016-2017')]"
      ]
     },
     "execution_count": 213,
     "metadata": {},
     "output_type": "execute_result"
    }
   ],
   "source": [
    "%%sql\n",
    "SELECT *\n",
    "FROM Temp_Achievement_Building_1617\n",
    "WHERE DistrictIRN = '043786'\n",
    "LIMIT 1"
   ]
  },
  {
   "cell_type": "code",
   "execution_count": 37,
   "id": "6c41d83a",
   "metadata": {},
   "outputs": [
    {
     "name": "stdout",
     "output_type": "stream",
     "text": [
      " * sqlite:///CMSD_db.db\n",
      "Done.\n"
     ]
    },
    {
     "data": {
      "text/html": [
       "<table>\n",
       "    <tr>\n",
       "        <th>building</th>\n",
       "        <th>District</th>\n",
       "        <th>Name</th>\n",
       "    </tr>\n",
       "    <tr>\n",
       "        <td>119</td>\n",
       "        <td>1</td>\n",
       "        <td>1</td>\n",
       "    </tr>\n",
       "</table>"
      ],
      "text/plain": [
       "[(119, 1, 1)]"
      ]
     },
     "execution_count": 37,
     "metadata": {},
     "output_type": "execute_result"
    }
   ],
   "source": [
    "%%sql\n",
    "SELECT COUNT (DISTINCT BuildingIRN) AS building, COUNT (DISTINCT DistrictIRN) AS District, COUNT (DISTINCT DistrictName) AS Name\n",
    "FROM Temp_Achievement_Building_1617"
   ]
  },
  {
   "cell_type": "markdown",
   "id": "e0dcfbac",
   "metadata": {},
   "source": [
    "### Creating Temp Table for Achievement Building School Year 2017-2018"
   ]
  },
  {
   "cell_type": "code",
   "execution_count": 42,
   "id": "1b54e31c",
   "metadata": {},
   "outputs": [
    {
     "name": "stdout",
     "output_type": "stream",
     "text": [
      " * sqlite:///CMSD_db.db\n",
      "Done.\n"
     ]
    },
    {
     "data": {
      "text/plain": [
       "[]"
      ]
     },
     "execution_count": 42,
     "metadata": {},
     "output_type": "execute_result"
    }
   ],
   "source": [
    "%%sql\n",
    "CREATE TEMPORARY TABLE Temp_Achievement_Building_1718 AS\n",
    "SELECT \"BuildingIRN\", \"BuildingName\", \"DistrictIRN\", \"DistrictName\", \"PerformanceIndexScore2017-18\" AS \"PerformanceIndexScore\", \"PerformanceIndexPercent2017-18\" AS \"PerformanceIndexPercent\", \"LetterGradeofPerformanceIndex\", \"PercentofStudentsLimited\" AS PercentofStudentsBelow, \"PercentofStudentsBasic\", \"PercentofStudentsProficient\", \"PercentofStudentsAccelerated\", \"PercentofStudentsAdvanced\", \"PercentofStudentsAdvancedPlus\", '2017-2018' AS SchoolYear\n",
    "FROM Achievement_Building_1718\n",
    "WHERE \"DistrictIRN\" = '043786';"
   ]
  },
  {
   "cell_type": "markdown",
   "id": "1c75e71c",
   "metadata": {},
   "source": [
    "Since I included some additional columns for consideration while working on further analysis, there is one column that I had to rename: PerformanceofStudentsLimited. In the 2017-2018 Achievement table, this column was originally named \"PerformanceofStudentsLimited\", which deviates from the naming convention used in the two school years prior. For the sake of continuity, I renamed the 2017-2018 column to fit with the prior years, but this change has been noted. "
   ]
  },
  {
   "cell_type": "code",
   "execution_count": 43,
   "id": "eb9440d1",
   "metadata": {},
   "outputs": [
    {
     "name": "stdout",
     "output_type": "stream",
     "text": [
      " * sqlite:///CMSD_db.db\n",
      "Done.\n"
     ]
    },
    {
     "data": {
      "text/html": [
       "<table>\n",
       "    <tr>\n",
       "        <th>cid</th>\n",
       "        <th>name</th>\n",
       "        <th>type</th>\n",
       "        <th>notnull</th>\n",
       "        <th>dflt_value</th>\n",
       "        <th>pk</th>\n",
       "    </tr>\n",
       "    <tr>\n",
       "        <td>0</td>\n",
       "        <td>BuildingIRN</td>\n",
       "        <td>INT</td>\n",
       "        <td>0</td>\n",
       "        <td>None</td>\n",
       "        <td>0</td>\n",
       "    </tr>\n",
       "    <tr>\n",
       "        <td>1</td>\n",
       "        <td>BuildingName</td>\n",
       "        <td>TEXT</td>\n",
       "        <td>0</td>\n",
       "        <td>None</td>\n",
       "        <td>0</td>\n",
       "    </tr>\n",
       "    <tr>\n",
       "        <td>2</td>\n",
       "        <td>DistrictIRN</td>\n",
       "        <td>INT</td>\n",
       "        <td>0</td>\n",
       "        <td>None</td>\n",
       "        <td>0</td>\n",
       "    </tr>\n",
       "    <tr>\n",
       "        <td>3</td>\n",
       "        <td>DistrictName</td>\n",
       "        <td>TEXT</td>\n",
       "        <td>0</td>\n",
       "        <td>None</td>\n",
       "        <td>0</td>\n",
       "    </tr>\n",
       "    <tr>\n",
       "        <td>4</td>\n",
       "        <td>PerformanceIndexScore</td>\n",
       "        <td>TEXT</td>\n",
       "        <td>0</td>\n",
       "        <td>None</td>\n",
       "        <td>0</td>\n",
       "    </tr>\n",
       "    <tr>\n",
       "        <td>5</td>\n",
       "        <td>PerformanceIndexPercent</td>\n",
       "        <td>TEXT</td>\n",
       "        <td>0</td>\n",
       "        <td>None</td>\n",
       "        <td>0</td>\n",
       "    </tr>\n",
       "    <tr>\n",
       "        <td>6</td>\n",
       "        <td>LetterGradeofPerformanceIndex</td>\n",
       "        <td>TEXT</td>\n",
       "        <td>0</td>\n",
       "        <td>None</td>\n",
       "        <td>0</td>\n",
       "    </tr>\n",
       "    <tr>\n",
       "        <td>7</td>\n",
       "        <td>PercentofStudentsBelow</td>\n",
       "        <td>TEXT</td>\n",
       "        <td>0</td>\n",
       "        <td>None</td>\n",
       "        <td>0</td>\n",
       "    </tr>\n",
       "    <tr>\n",
       "        <td>8</td>\n",
       "        <td>PercentofStudentsBasic</td>\n",
       "        <td>TEXT</td>\n",
       "        <td>0</td>\n",
       "        <td>None</td>\n",
       "        <td>0</td>\n",
       "    </tr>\n",
       "    <tr>\n",
       "        <td>9</td>\n",
       "        <td>PercentofStudentsProficient</td>\n",
       "        <td>TEXT</td>\n",
       "        <td>0</td>\n",
       "        <td>None</td>\n",
       "        <td>0</td>\n",
       "    </tr>\n",
       "    <tr>\n",
       "        <td>10</td>\n",
       "        <td>PercentofStudentsAccelerated</td>\n",
       "        <td>TEXT</td>\n",
       "        <td>0</td>\n",
       "        <td>None</td>\n",
       "        <td>0</td>\n",
       "    </tr>\n",
       "    <tr>\n",
       "        <td>11</td>\n",
       "        <td>PercentofStudentsAdvanced</td>\n",
       "        <td>TEXT</td>\n",
       "        <td>0</td>\n",
       "        <td>None</td>\n",
       "        <td>0</td>\n",
       "    </tr>\n",
       "    <tr>\n",
       "        <td>12</td>\n",
       "        <td>PercentofStudentsAdvancedPlus</td>\n",
       "        <td>TEXT</td>\n",
       "        <td>0</td>\n",
       "        <td>None</td>\n",
       "        <td>0</td>\n",
       "    </tr>\n",
       "    <tr>\n",
       "        <td>13</td>\n",
       "        <td>SchoolYear</td>\n",
       "        <td></td>\n",
       "        <td>0</td>\n",
       "        <td>None</td>\n",
       "        <td>0</td>\n",
       "    </tr>\n",
       "</table>"
      ],
      "text/plain": [
       "[(0, 'BuildingIRN', 'INT', 0, None, 0),\n",
       " (1, 'BuildingName', 'TEXT', 0, None, 0),\n",
       " (2, 'DistrictIRN', 'INT', 0, None, 0),\n",
       " (3, 'DistrictName', 'TEXT', 0, None, 0),\n",
       " (4, 'PerformanceIndexScore', 'TEXT', 0, None, 0),\n",
       " (5, 'PerformanceIndexPercent', 'TEXT', 0, None, 0),\n",
       " (6, 'LetterGradeofPerformanceIndex', 'TEXT', 0, None, 0),\n",
       " (7, 'PercentofStudentsBelow', 'TEXT', 0, None, 0),\n",
       " (8, 'PercentofStudentsBasic', 'TEXT', 0, None, 0),\n",
       " (9, 'PercentofStudentsProficient', 'TEXT', 0, None, 0),\n",
       " (10, 'PercentofStudentsAccelerated', 'TEXT', 0, None, 0),\n",
       " (11, 'PercentofStudentsAdvanced', 'TEXT', 0, None, 0),\n",
       " (12, 'PercentofStudentsAdvancedPlus', 'TEXT', 0, None, 0),\n",
       " (13, 'SchoolYear', '', 0, None, 0)]"
      ]
     },
     "execution_count": 43,
     "metadata": {},
     "output_type": "execute_result"
    }
   ],
   "source": [
    "%%sql\n",
    "PRAGMA table_info(Temp_Achievement_Building_1718)"
   ]
  },
  {
   "cell_type": "code",
   "execution_count": 44,
   "id": "38704526",
   "metadata": {},
   "outputs": [
    {
     "name": "stdout",
     "output_type": "stream",
     "text": [
      " * sqlite:///CMSD_db.db\n",
      "Done.\n"
     ]
    },
    {
     "data": {
      "text/html": [
       "<table>\n",
       "    <tr>\n",
       "        <th>building</th>\n",
       "        <th>District</th>\n",
       "        <th>Name</th>\n",
       "    </tr>\n",
       "    <tr>\n",
       "        <td>123</td>\n",
       "        <td>1</td>\n",
       "        <td>1</td>\n",
       "    </tr>\n",
       "</table>"
      ],
      "text/plain": [
       "[(123, 1, 1)]"
      ]
     },
     "execution_count": 44,
     "metadata": {},
     "output_type": "execute_result"
    }
   ],
   "source": [
    "%%sql\n",
    "SELECT COUNT (DISTINCT BuildingIRN) AS building, COUNT (DISTINCT DistrictIRN) AS District, COUNT (DISTINCT DistrictName) AS Name\n",
    "FROM Temp_Achievement_Building_1718"
   ]
  },
  {
   "cell_type": "markdown",
   "id": "32ee476b",
   "metadata": {},
   "source": [
    "### Combining the Achievement Temp Tables into one table"
   ]
  },
  {
   "cell_type": "code",
   "execution_count": 45,
   "id": "b7431c88",
   "metadata": {},
   "outputs": [
    {
     "name": "stdout",
     "output_type": "stream",
     "text": [
      " * sqlite:///CMSD_db.db\n",
      "Done.\n"
     ]
    },
    {
     "data": {
      "text/plain": [
       "[]"
      ]
     },
     "execution_count": 45,
     "metadata": {},
     "output_type": "execute_result"
    }
   ],
   "source": [
    "%%sql\n",
    "CREATE TEMPORARY TABLE Combined_Achievement AS\n",
    "SELECT * FROM Temp_Achievement_Building_1516\n",
    "UNION ALL\n",
    "SELECT * FROM Temp_Achievement_Building_1617\n",
    "UNION ALL\n",
    "SELECT * FROM Temp_Achievement_Building_1718;"
   ]
  },
  {
   "cell_type": "code",
   "execution_count": 214,
   "id": "d64fe772",
   "metadata": {},
   "outputs": [
    {
     "name": "stdout",
     "output_type": "stream",
     "text": [
      " * sqlite:///CMSD_db.db\n",
      "Done.\n"
     ]
    },
    {
     "data": {
      "text/html": [
       "<table>\n",
       "    <tr>\n",
       "        <th>BuildingIRN</th>\n",
       "        <th>BuildingName</th>\n",
       "        <th>DistrictIRN</th>\n",
       "        <th>DistrictName</th>\n",
       "        <th>PerformanceIndexScore</th>\n",
       "        <th>PerformanceIndexPercent</th>\n",
       "        <th>LetterGradeofPerformanceIndex</th>\n",
       "        <th>PercentofStudentsBelow</th>\n",
       "        <th>PercentofStudentsBasic</th>\n",
       "        <th>PercentofStudentsProficient</th>\n",
       "        <th>PercentofStudentsAccelerated</th>\n",
       "        <th>PercentofStudentsAdvanced</th>\n",
       "        <th>PercentofStudentsAdvancedPlus</th>\n",
       "        <th>SchoolYear</th>\n",
       "    </tr>\n",
       "    <tr>\n",
       "        <td>224</td>\n",
       "        <td>Adlai Stevenson School</td>\n",
       "        <td>43786</td>\n",
       "        <td>Cleveland Municipal</td>\n",
       "        <td>43.903</td>\n",
       "        <td>36.6</td>\n",
       "        <td>F</td>\n",
       "        <td>69.9</td>\n",
       "        <td>19</td>\n",
       "        <td>7.6</td>\n",
       "        <td>2.5</td>\n",
       "        <td>1</td>\n",
       "        <td>0</td>\n",
       "        <td>2015-2016</td>\n",
       "    </tr>\n",
       "</table>"
      ],
      "text/plain": [
       "[(224, 'Adlai Stevenson School', 43786, 'Cleveland Municipal', '43.903', '36.6', 'F', '69.9', '19', '7.6', '2.5', '1', '0', '2015-2016')]"
      ]
     },
     "execution_count": 214,
     "metadata": {},
     "output_type": "execute_result"
    }
   ],
   "source": [
    "%%sql\n",
    "SELECT *\n",
    "FROM Combined_Achievement\n",
    "WHERE DistrictIRN = '043786'\n",
    "LIMIT 1"
   ]
  },
  {
   "cell_type": "code",
   "execution_count": 48,
   "id": "557d57cd",
   "metadata": {},
   "outputs": [
    {
     "name": "stdout",
     "output_type": "stream",
     "text": [
      " * sqlite:///CMSD_db.db\n",
      "Done.\n"
     ]
    },
    {
     "data": {
      "text/html": [
       "<table>\n",
       "    <tr>\n",
       "        <th>building</th>\n",
       "        <th>District</th>\n",
       "        <th>Name</th>\n",
       "        <th>Year</th>\n",
       "    </tr>\n",
       "    <tr>\n",
       "        <td>128</td>\n",
       "        <td>1</td>\n",
       "        <td>1</td>\n",
       "        <td>3</td>\n",
       "    </tr>\n",
       "</table>"
      ],
      "text/plain": [
       "[(128, 1, 1, 3)]"
      ]
     },
     "execution_count": 48,
     "metadata": {},
     "output_type": "execute_result"
    }
   ],
   "source": [
    "%%sql\n",
    "SELECT COUNT (DISTINCT BuildingIRN) AS building, COUNT (DISTINCT DistrictIRN) AS District, COUNT (DISTINCT DistrictName) AS Name, COUNT (DISTINCT SchoolYear) AS Year\n",
    "FROM Combined_Achievement"
   ]
  },
  {
   "cell_type": "markdown",
   "id": "ca78056f",
   "metadata": {},
   "source": [
    "# Building Ratings\n",
    "Now, I'm going to narrow down the Building Ratings data in a similar fashion to the Achievement Ratings. I'll go through each year, validate the data, ensure that the correct columns are included, and then union the temporary tables to form a combined Building Ratings table, which can be used to form the final output file."
   ]
  },
  {
   "cell_type": "markdown",
   "id": "11b75056",
   "metadata": {},
   "source": [
    "### Building Ratings 2015-2016"
   ]
  },
  {
   "cell_type": "code",
   "execution_count": 215,
   "id": "169012e0",
   "metadata": {},
   "outputs": [
    {
     "name": "stdout",
     "output_type": "stream",
     "text": [
      " * sqlite:///CMSD_db.db\n",
      "Done.\n"
     ]
    },
    {
     "data": {
      "text/html": [
       "<table>\n",
       "    <tr>\n",
       "        <th>DistrictIRN</th>\n",
       "        <th>DistrictName</th>\n",
       "        <th>BuildingIRN</th>\n",
       "        <th>BuildingName</th>\n",
       "        <th>County</th>\n",
       "        <th>Region</th>\n",
       "        <th>Address</th>\n",
       "        <th>CityStateZip</th>\n",
       "        <th>Phone</th>\n",
       "        <th>Principal</th>\n",
       "        <th>Enrollment2015-2016</th>\n",
       "        <th>LetterGradeofAchievementComponent</th>\n",
       "        <th>LetterGradeofPercentStandards</th>\n",
       "        <th>GiftedIndicatorMet/NotMetStatus</th>\n",
       "        <th>PercentofStandardsMet</th>\n",
       "        <th>LetterGradeofPerformanceIndex</th>\n",
       "        <th>PerformanceIndexPercent</th>\n",
       "        <th>LetterGradeofAMO</th>\n",
       "        <th>AMOPoints</th>\n",
       "        <th>LetterGradeofK3Literacy</th>\n",
       "        <th>K3LiteracyPercent</th>\n",
       "        <th>LetterGradeofProgressComponent</th>\n",
       "        <th>LetterGradeofOverallValueAdded</th>\n",
       "        <th>OverallValueAddedGainIndex</th>\n",
       "        <th>LetterGradeofGiftedValueAdded</th>\n",
       "        <th>GiftedValueAddedGainIndex</th>\n",
       "        <th>LetterGradeofStudentswithDisabilitiesValueAdded</th>\n",
       "        <th>StudentswithDisabilitiesValueAddedGainIndex</th>\n",
       "        <th>LetterGradeofLowest20%ValueAdded</th>\n",
       "        <th>Lowest20%ValueAddedGainIndex</th>\n",
       "        <th>LetterGradeofHighMobilityValueAdded</th>\n",
       "        <th>HighMobilityValueAddedGainIndex</th>\n",
       "        <th>LetterGradeofGradRateComponent</th>\n",
       "        <th>LetterGradeof4YearGradRate2015</th>\n",
       "        <th>4YearGradRate2015</th>\n",
       "        <th>LetterGradeof5YearGradRate2014</th>\n",
       "        <th>5YearGradRate2014</th>\n",
       "        <th>LetterGradeofPreparedforSuccessComponent</th>\n",
       "        <th>PercentofPreparedforSuccessComponent</th>\n",
       "        <th>AttendanceRate2015-2016</th>\n",
       "        <th>AttendanceRate2014-2015</th>\n",
       "        <th>AttendanceRate2013-2014</th>\n",
       "        <th>ChronicAbsenteeismPercent2015-2016</th>\n",
       "        <th>Watermark</th>\n",
       "    </tr>\n",
       "    <tr>\n",
       "        <td>43786</td>\n",
       "        <td>Cleveland Municipal City</td>\n",
       "        <td>224</td>\n",
       "        <td>Adlai Stevenson School</td>\n",
       "        <td>Cuyahoga</td>\n",
       "        <td>Region 3</td>\n",
       "        <td>18300 Woda Avenue</td>\n",
       "        <td>Cleveland, OH, 44122-6441</td>\n",
       "        <td>(216) 482-2950</td>\n",
       "        <td>Christopher T. Wyland</td>\n",
       "        <td>430</td>\n",
       "        <td>F</td>\n",
       "        <td>F</td>\n",
       "        <td>NC</td>\n",
       "        <td>0.0</td>\n",
       "        <td>F</td>\n",
       "        <td>36.6</td>\n",
       "        <td>F</td>\n",
       "        <td>0.0</td>\n",
       "        <td>F</td>\n",
       "        <td>15.8</td>\n",
       "        <td>F</td>\n",
       "        <td>F</td>\n",
       "        <td>-6.6</td>\n",
       "        <td>NR</td>\n",
       "        <td>NC</td>\n",
       "        <td>F</td>\n",
       "        <td>-3.5</td>\n",
       "        <td>F</td>\n",
       "        <td>-4.4</td>\n",
       "        <td>F</td>\n",
       "        <td>-6.1</td>\n",
       "        <td>NR</td>\n",
       "        <td>NR</td>\n",
       "        <td>NC</td>\n",
       "        <td>NR</td>\n",
       "        <td>NC</td>\n",
       "        <td>NR</td>\n",
       "        <td>NC</td>\n",
       "        <td>94.0</td>\n",
       "        <td>92.7</td>\n",
       "        <td>93</td>\n",
       "        <td>17.4</td>\n",
       "        <td>None</td>\n",
       "    </tr>\n",
       "</table>"
      ],
      "text/plain": [
       "[(43786, 'Cleveland Municipal City', 224, 'Adlai Stevenson School', 'Cuyahoga', 'Region 3', '18300 Woda Avenue', 'Cleveland, OH, 44122-6441', '(216) 482-2950', 'Christopher T. Wyland', 430, 'F', 'F', 'NC', '0.0', 'F', 36.6, 'F', '0.0', 'F', '15.8', 'F', 'F', -6.6, 'NR', 'NC', 'F', '-3.5', 'F', -4.4, 'F', '-6.1', 'NR', 'NR', 'NC', 'NR', 'NC', 'NR', 'NC', 94.0, 92.7, 93, 17.4, None)]"
      ]
     },
     "execution_count": 215,
     "metadata": {},
     "output_type": "execute_result"
    }
   ],
   "source": [
    "%%sql\n",
    "SELECT *\n",
    "FROM Building_Ratings_1516\n",
    "WHERE DistrictIRN = '043786'\n",
    "LIMIT 1\n",
    "\n",
    "/*Just a basic query to check everything is working as intended before making temporary tables"
   ]
  },
  {
   "cell_type": "code",
   "execution_count": 136,
   "id": "def80285",
   "metadata": {},
   "outputs": [
    {
     "name": "stdout",
     "output_type": "stream",
     "text": [
      " * sqlite:///CMSD_db.db\n",
      "Done.\n"
     ]
    },
    {
     "data": {
      "text/plain": [
       "[]"
      ]
     },
     "execution_count": 136,
     "metadata": {},
     "output_type": "execute_result"
    }
   ],
   "source": [
    "%%sql\n",
    "CREATE TEMPORARY TABLE Temp_Building_Ratings_1516 AS\n",
    "SELECT \"DistrictIRN\", \"DistrictName\", \"BuildingIRN\", \"Address\", \"CityStateZip\", \"Enrollment2015-2016\" AS \"Enrollment\", \"LetterGradeofAchievementComponent\", \"LetterGradeofPercentStandards\", \"PercentofStandardsMet\", \"LetterGradeofPerformanceIndex\", \"PerformanceIndexPercent\", '2015-2016' AS SchoolYear\n",
    "FROM Building_Ratings_1516\n",
    "WHERE DistrictIRN = '043786'"
   ]
  },
  {
   "cell_type": "code",
   "execution_count": 137,
   "id": "b826c3ae",
   "metadata": {},
   "outputs": [
    {
     "name": "stdout",
     "output_type": "stream",
     "text": [
      " * sqlite:///CMSD_db.db\n",
      "Done.\n"
     ]
    },
    {
     "data": {
      "text/html": [
       "<table>\n",
       "    <tr>\n",
       "        <th>cid</th>\n",
       "        <th>name</th>\n",
       "        <th>type</th>\n",
       "        <th>notnull</th>\n",
       "        <th>dflt_value</th>\n",
       "        <th>pk</th>\n",
       "    </tr>\n",
       "    <tr>\n",
       "        <td>0</td>\n",
       "        <td>DistrictIRN</td>\n",
       "        <td>INT</td>\n",
       "        <td>0</td>\n",
       "        <td>None</td>\n",
       "        <td>0</td>\n",
       "    </tr>\n",
       "    <tr>\n",
       "        <td>1</td>\n",
       "        <td>DistrictName</td>\n",
       "        <td>TEXT</td>\n",
       "        <td>0</td>\n",
       "        <td>None</td>\n",
       "        <td>0</td>\n",
       "    </tr>\n",
       "    <tr>\n",
       "        <td>2</td>\n",
       "        <td>BuildingIRN</td>\n",
       "        <td>INT</td>\n",
       "        <td>0</td>\n",
       "        <td>None</td>\n",
       "        <td>0</td>\n",
       "    </tr>\n",
       "    <tr>\n",
       "        <td>3</td>\n",
       "        <td>Address</td>\n",
       "        <td>TEXT</td>\n",
       "        <td>0</td>\n",
       "        <td>None</td>\n",
       "        <td>0</td>\n",
       "    </tr>\n",
       "    <tr>\n",
       "        <td>4</td>\n",
       "        <td>CityStateZip</td>\n",
       "        <td>TEXT</td>\n",
       "        <td>0</td>\n",
       "        <td>None</td>\n",
       "        <td>0</td>\n",
       "    </tr>\n",
       "    <tr>\n",
       "        <td>5</td>\n",
       "        <td>Enrollment</td>\n",
       "        <td>INT</td>\n",
       "        <td>0</td>\n",
       "        <td>None</td>\n",
       "        <td>0</td>\n",
       "    </tr>\n",
       "    <tr>\n",
       "        <td>6</td>\n",
       "        <td>LetterGradeofAchievementComponent</td>\n",
       "        <td>TEXT</td>\n",
       "        <td>0</td>\n",
       "        <td>None</td>\n",
       "        <td>0</td>\n",
       "    </tr>\n",
       "    <tr>\n",
       "        <td>7</td>\n",
       "        <td>LetterGradeofPercentStandards</td>\n",
       "        <td>TEXT</td>\n",
       "        <td>0</td>\n",
       "        <td>None</td>\n",
       "        <td>0</td>\n",
       "    </tr>\n",
       "    <tr>\n",
       "        <td>8</td>\n",
       "        <td>PercentofStandardsMet</td>\n",
       "        <td>TEXT</td>\n",
       "        <td>0</td>\n",
       "        <td>None</td>\n",
       "        <td>0</td>\n",
       "    </tr>\n",
       "    <tr>\n",
       "        <td>9</td>\n",
       "        <td>LetterGradeofPerformanceIndex</td>\n",
       "        <td>TEXT</td>\n",
       "        <td>0</td>\n",
       "        <td>None</td>\n",
       "        <td>0</td>\n",
       "    </tr>\n",
       "    <tr>\n",
       "        <td>10</td>\n",
       "        <td>PerformanceIndexPercent</td>\n",
       "        <td>REAL</td>\n",
       "        <td>0</td>\n",
       "        <td>None</td>\n",
       "        <td>0</td>\n",
       "    </tr>\n",
       "    <tr>\n",
       "        <td>11</td>\n",
       "        <td>SchoolYear</td>\n",
       "        <td></td>\n",
       "        <td>0</td>\n",
       "        <td>None</td>\n",
       "        <td>0</td>\n",
       "    </tr>\n",
       "</table>"
      ],
      "text/plain": [
       "[(0, 'DistrictIRN', 'INT', 0, None, 0),\n",
       " (1, 'DistrictName', 'TEXT', 0, None, 0),\n",
       " (2, 'BuildingIRN', 'INT', 0, None, 0),\n",
       " (3, 'Address', 'TEXT', 0, None, 0),\n",
       " (4, 'CityStateZip', 'TEXT', 0, None, 0),\n",
       " (5, 'Enrollment', 'INT', 0, None, 0),\n",
       " (6, 'LetterGradeofAchievementComponent', 'TEXT', 0, None, 0),\n",
       " (7, 'LetterGradeofPercentStandards', 'TEXT', 0, None, 0),\n",
       " (8, 'PercentofStandardsMet', 'TEXT', 0, None, 0),\n",
       " (9, 'LetterGradeofPerformanceIndex', 'TEXT', 0, None, 0),\n",
       " (10, 'PerformanceIndexPercent', 'REAL', 0, None, 0),\n",
       " (11, 'SchoolYear', '', 0, None, 0)]"
      ]
     },
     "execution_count": 137,
     "metadata": {},
     "output_type": "execute_result"
    }
   ],
   "source": [
    "%%sql\n",
    "PRAGMA table_info(Temp_Building_Ratings_1516)"
   ]
  },
  {
   "cell_type": "code",
   "execution_count": 138,
   "id": "8ca161d2",
   "metadata": {},
   "outputs": [
    {
     "name": "stdout",
     "output_type": "stream",
     "text": [
      " * sqlite:///CMSD_db.db\n",
      "Done.\n"
     ]
    },
    {
     "data": {
      "text/html": [
       "<table>\n",
       "    <tr>\n",
       "        <th>building</th>\n",
       "        <th>District</th>\n",
       "        <th>Name</th>\n",
       "    </tr>\n",
       "    <tr>\n",
       "        <td>117</td>\n",
       "        <td>1</td>\n",
       "        <td>1</td>\n",
       "    </tr>\n",
       "</table>"
      ],
      "text/plain": [
       "[(117, 1, 1)]"
      ]
     },
     "execution_count": 138,
     "metadata": {},
     "output_type": "execute_result"
    }
   ],
   "source": [
    "%%sql\n",
    "SELECT COUNT (DISTINCT BuildingIRN) AS building, COUNT (DISTINCT DistrictIRN) AS District, COUNT (DISTINCT DistrictName) AS Name\n",
    "FROM Temp_Building_Ratings_1516"
   ]
  },
  {
   "cell_type": "markdown",
   "id": "098b01c7",
   "metadata": {},
   "source": [
    "First potential issue has arisen. Based on the entries remaining in my Temp Tables for 15-16, there are more schools present in the Building Ratings Table than there are in the Achievement Table. The difference is relatively small in absolute terms - 16 entries - however, this is significant."
   ]
  },
  {
   "cell_type": "markdown",
   "id": "4c06000e",
   "metadata": {},
   "source": [
    "### Building Ratings 2016-2017"
   ]
  },
  {
   "cell_type": "code",
   "execution_count": 171,
   "id": "ca718401",
   "metadata": {},
   "outputs": [
    {
     "name": "stdout",
     "output_type": "stream",
     "text": [
      " * sqlite:///CMSD_db.db\n",
      "Done.\n"
     ]
    },
    {
     "data": {
      "text/plain": [
       "[]"
      ]
     },
     "execution_count": 171,
     "metadata": {},
     "output_type": "execute_result"
    }
   ],
   "source": [
    "%%sql\n",
    "DROP TABLE Temp_Building_Ratings_1617"
   ]
  },
  {
   "cell_type": "code",
   "execution_count": 172,
   "id": "b0758ad5",
   "metadata": {},
   "outputs": [
    {
     "name": "stdout",
     "output_type": "stream",
     "text": [
      " * sqlite:///CMSD_db.db\n",
      "Done.\n"
     ]
    },
    {
     "data": {
      "text/plain": [
       "[]"
      ]
     },
     "execution_count": 172,
     "metadata": {},
     "output_type": "execute_result"
    }
   ],
   "source": [
    "%%sql\n",
    "CREATE TEMPORARY TABLE Temp_Building_Ratings_1617 AS\n",
    "SELECT \"DistrictIRN\", \"DistrictName\", \"BuildingIRN\", \"Address\", \"CityStateZip\", \"Enrollment2016-2017\" AS \"Enrollment\", \"LetterGradeofAchievementComponent\", \"LetterGradeofPercentStandards\", \"PercentofStandardsMet\", \"LetterGradeofPerformanceIndex\", \"PerformanceIndexPercent\", '2016-2017' AS SchoolYear\n",
    "FROM Building_Ratings_1617\n",
    "WHERE DistrictIRN = '043786'"
   ]
  },
  {
   "cell_type": "code",
   "execution_count": 173,
   "id": "83e98605",
   "metadata": {},
   "outputs": [
    {
     "name": "stdout",
     "output_type": "stream",
     "text": [
      " * sqlite:///CMSD_db.db\n",
      "Done.\n"
     ]
    },
    {
     "data": {
      "text/html": [
       "<table>\n",
       "    <tr>\n",
       "        <th>cid</th>\n",
       "        <th>name</th>\n",
       "        <th>type</th>\n",
       "        <th>notnull</th>\n",
       "        <th>dflt_value</th>\n",
       "        <th>pk</th>\n",
       "    </tr>\n",
       "    <tr>\n",
       "        <td>0</td>\n",
       "        <td>DistrictIRN</td>\n",
       "        <td>INT</td>\n",
       "        <td>0</td>\n",
       "        <td>None</td>\n",
       "        <td>0</td>\n",
       "    </tr>\n",
       "    <tr>\n",
       "        <td>1</td>\n",
       "        <td>DistrictName</td>\n",
       "        <td>TEXT</td>\n",
       "        <td>0</td>\n",
       "        <td>None</td>\n",
       "        <td>0</td>\n",
       "    </tr>\n",
       "    <tr>\n",
       "        <td>2</td>\n",
       "        <td>BuildingIRN</td>\n",
       "        <td>INT</td>\n",
       "        <td>0</td>\n",
       "        <td>None</td>\n",
       "        <td>0</td>\n",
       "    </tr>\n",
       "    <tr>\n",
       "        <td>3</td>\n",
       "        <td>Address</td>\n",
       "        <td>TEXT</td>\n",
       "        <td>0</td>\n",
       "        <td>None</td>\n",
       "        <td>0</td>\n",
       "    </tr>\n",
       "    <tr>\n",
       "        <td>4</td>\n",
       "        <td>CityStateZip</td>\n",
       "        <td>TEXT</td>\n",
       "        <td>0</td>\n",
       "        <td>None</td>\n",
       "        <td>0</td>\n",
       "    </tr>\n",
       "    <tr>\n",
       "        <td>5</td>\n",
       "        <td>Enrollment</td>\n",
       "        <td>INT</td>\n",
       "        <td>0</td>\n",
       "        <td>None</td>\n",
       "        <td>0</td>\n",
       "    </tr>\n",
       "    <tr>\n",
       "        <td>6</td>\n",
       "        <td>LetterGradeofAchievementComponent</td>\n",
       "        <td>TEXT</td>\n",
       "        <td>0</td>\n",
       "        <td>None</td>\n",
       "        <td>0</td>\n",
       "    </tr>\n",
       "    <tr>\n",
       "        <td>7</td>\n",
       "        <td>LetterGradeofPercentStandards</td>\n",
       "        <td>TEXT</td>\n",
       "        <td>0</td>\n",
       "        <td>None</td>\n",
       "        <td>0</td>\n",
       "    </tr>\n",
       "    <tr>\n",
       "        <td>8</td>\n",
       "        <td>PercentofStandardsMet</td>\n",
       "        <td>TEXT</td>\n",
       "        <td>0</td>\n",
       "        <td>None</td>\n",
       "        <td>0</td>\n",
       "    </tr>\n",
       "    <tr>\n",
       "        <td>9</td>\n",
       "        <td>LetterGradeofPerformanceIndex</td>\n",
       "        <td>TEXT</td>\n",
       "        <td>0</td>\n",
       "        <td>None</td>\n",
       "        <td>0</td>\n",
       "    </tr>\n",
       "    <tr>\n",
       "        <td>10</td>\n",
       "        <td>PerformanceIndexPercent</td>\n",
       "        <td>REAL</td>\n",
       "        <td>0</td>\n",
       "        <td>None</td>\n",
       "        <td>0</td>\n",
       "    </tr>\n",
       "    <tr>\n",
       "        <td>11</td>\n",
       "        <td>SchoolYear</td>\n",
       "        <td></td>\n",
       "        <td>0</td>\n",
       "        <td>None</td>\n",
       "        <td>0</td>\n",
       "    </tr>\n",
       "</table>"
      ],
      "text/plain": [
       "[(0, 'DistrictIRN', 'INT', 0, None, 0),\n",
       " (1, 'DistrictName', 'TEXT', 0, None, 0),\n",
       " (2, 'BuildingIRN', 'INT', 0, None, 0),\n",
       " (3, 'Address', 'TEXT', 0, None, 0),\n",
       " (4, 'CityStateZip', 'TEXT', 0, None, 0),\n",
       " (5, 'Enrollment', 'INT', 0, None, 0),\n",
       " (6, 'LetterGradeofAchievementComponent', 'TEXT', 0, None, 0),\n",
       " (7, 'LetterGradeofPercentStandards', 'TEXT', 0, None, 0),\n",
       " (8, 'PercentofStandardsMet', 'TEXT', 0, None, 0),\n",
       " (9, 'LetterGradeofPerformanceIndex', 'TEXT', 0, None, 0),\n",
       " (10, 'PerformanceIndexPercent', 'REAL', 0, None, 0),\n",
       " (11, 'SchoolYear', '', 0, None, 0)]"
      ]
     },
     "execution_count": 173,
     "metadata": {},
     "output_type": "execute_result"
    }
   ],
   "source": [
    "%%sql\n",
    "PRAGMA table_info(Temp_Building_Ratings_1617)"
   ]
  },
  {
   "cell_type": "code",
   "execution_count": 174,
   "id": "836874f5",
   "metadata": {},
   "outputs": [
    {
     "name": "stdout",
     "output_type": "stream",
     "text": [
      " * sqlite:///CMSD_db.db\n",
      "Done.\n"
     ]
    },
    {
     "data": {
      "text/html": [
       "<table>\n",
       "    <tr>\n",
       "        <th>building</th>\n",
       "        <th>District</th>\n",
       "        <th>Name</th>\n",
       "    </tr>\n",
       "    <tr>\n",
       "        <td>116</td>\n",
       "        <td>1</td>\n",
       "        <td>1</td>\n",
       "    </tr>\n",
       "</table>"
      ],
      "text/plain": [
       "[(116, 1, 1)]"
      ]
     },
     "execution_count": 174,
     "metadata": {},
     "output_type": "execute_result"
    }
   ],
   "source": [
    "%%sql\n",
    "SELECT COUNT (DISTINCT BuildingIRN) AS building, COUNT (DISTINCT DistrictIRN) AS District, COUNT (DISTINCT DistrictName) AS Name\n",
    "FROM Temp_Building_Ratings_1617"
   ]
  },
  {
   "cell_type": "code",
   "execution_count": 216,
   "id": "5b8ddbcf",
   "metadata": {},
   "outputs": [
    {
     "name": "stdout",
     "output_type": "stream",
     "text": [
      " * sqlite:///CMSD_db.db\n",
      "Done.\n"
     ]
    },
    {
     "data": {
      "text/html": [
       "<table>\n",
       "    <tr>\n",
       "        <th>DistrictIRN</th>\n",
       "        <th>DistrictName</th>\n",
       "        <th>BuildingIRN</th>\n",
       "        <th>Address</th>\n",
       "        <th>CityStateZip</th>\n",
       "        <th>Enrollment</th>\n",
       "        <th>LetterGradeofAchievementComponent</th>\n",
       "        <th>LetterGradeofPercentStandards</th>\n",
       "        <th>PercentofStandardsMet</th>\n",
       "        <th>LetterGradeofPerformanceIndex</th>\n",
       "        <th>PerformanceIndexPercent</th>\n",
       "        <th>SchoolYear</th>\n",
       "    </tr>\n",
       "    <tr>\n",
       "        <td>43786</td>\n",
       "        <td>Cleveland Municipal City</td>\n",
       "        <td>224</td>\n",
       "        <td>18300 Woda Avenue</td>\n",
       "        <td>Cleveland, OH, 44122-6441</td>\n",
       "        <td>445</td>\n",
       "        <td>F</td>\n",
       "        <td>F</td>\n",
       "        <td>0.0</td>\n",
       "        <td>F</td>\n",
       "        <td>41.1</td>\n",
       "        <td>2016-2017</td>\n",
       "    </tr>\n",
       "</table>"
      ],
      "text/plain": [
       "[(43786, 'Cleveland Municipal City', 224, '18300 Woda Avenue', 'Cleveland, OH, 44122-6441', 445, 'F', 'F', '0.0', 'F', 41.1, '2016-2017')]"
      ]
     },
     "execution_count": 216,
     "metadata": {},
     "output_type": "execute_result"
    }
   ],
   "source": [
    "%%sql\n",
    "SELECT *\n",
    "FROM Temp_Building_Ratings_1617\n",
    "WHERE DistrictIRN = '043786'\n",
    "LIMIT 1"
   ]
  },
  {
   "cell_type": "markdown",
   "id": "06aea0d4",
   "metadata": {},
   "source": [
    "Similar issue to 2015-2016, however, 2016-2017 is missing 3 buildings. Based on the number of missing entries for 2017-2018, I think I'll just remove these schools and make note of the issue in the final report."
   ]
  },
  {
   "cell_type": "markdown",
   "id": "631e48b1",
   "metadata": {},
   "source": [
    "### Building Ratings 2017-2018"
   ]
  },
  {
   "cell_type": "code",
   "execution_count": 217,
   "id": "0b3c5cc9",
   "metadata": {},
   "outputs": [
    {
     "name": "stdout",
     "output_type": "stream",
     "text": [
      " * sqlite:///CMSD_db.db\n",
      "Done.\n"
     ]
    },
    {
     "data": {
      "text/html": [
       "<table>\n",
       "    <tr>\n",
       "        <th>DistrictIRN</th>\n",
       "        <th>DistrictName</th>\n",
       "        <th>BuildingIRN</th>\n",
       "        <th>BuildingName</th>\n",
       "        <th>County</th>\n",
       "        <th>Region</th>\n",
       "        <th>Address</th>\n",
       "        <th>CityStateZip</th>\n",
       "        <th>Phone</th>\n",
       "        <th>Principal</th>\n",
       "        <th>Enrollment2017-2018</th>\n",
       "        <th>OverallGrade</th>\n",
       "        <th>AchievementComponentGrade</th>\n",
       "        <th>IndicatorsMetGrade</th>\n",
       "        <th>GiftedIndicatorMet/NotMetStatus</th>\n",
       "        <th>PercentofIndicatorsMet</th>\n",
       "        <th>PerformanceIndexGrade</th>\n",
       "        <th>PerformanceIndexPercent</th>\n",
       "        <th>GapClosingGrade</th>\n",
       "        <th>GapClosingPoints</th>\n",
       "        <th>ImprovingAt-RiskK3ReadersGrade</th>\n",
       "        <th>ImprovingAt-RiskK3ReadersPercent</th>\n",
       "        <th>ProgressComponentGrade</th>\n",
       "        <th>OverallSubgroupValue-AddedGrade</th>\n",
       "        <th>OverallSubgroupValue-AddedGainIndex</th>\n",
       "        <th>GiftedSubgroupValue-AddedGrade</th>\n",
       "        <th>GiftedSubgroupValue-AddedGainIndex</th>\n",
       "        <th>SWDSubgroupValue-AddedGrade</th>\n",
       "        <th>SWDSubgroupValue-AddedGainIndex</th>\n",
       "        <th>Lowest20%SubgroupValue-AddedGrade</th>\n",
       "        <th>Lowest20%SubgroupValue-AddedGainIndex</th>\n",
       "        <th>GradRateComponentGrade</th>\n",
       "        <th>LetterGradeof4YearGradRate2017</th>\n",
       "        <th>4YearGradRate2017</th>\n",
       "        <th>LetterGradeof5YearGradRate2016</th>\n",
       "        <th>5YearGradRate2016</th>\n",
       "        <th>PreparedforSuccessComponentGrade</th>\n",
       "        <th>PreparedforSuccessComponentPercent</th>\n",
       "        <th>AttendanceRate2017-2018</th>\n",
       "        <th>AttendanceRate2016-2017</th>\n",
       "        <th>AttendanceRate2015-2016</th>\n",
       "        <th>ChronicAbsenteeismPercent2017-2018</th>\n",
       "        <th>Watermark</th>\n",
       "    </tr>\n",
       "    <tr>\n",
       "        <td>43786</td>\n",
       "        <td>Cleveland Municipal</td>\n",
       "        <td>224</td>\n",
       "        <td>Adlai Stevenson School</td>\n",
       "        <td>Cuyahoga</td>\n",
       "        <td>Region 3</td>\n",
       "        <td>18300 Woda Avenue</td>\n",
       "        <td>Cleveland, OH, 44122-6441</td>\n",
       "        <td>(216) 838-5300</td>\n",
       "        <td>Christopher T. Wyland</td>\n",
       "        <td>443</td>\n",
       "        <td>D</td>\n",
       "        <td>F</td>\n",
       "        <td>F</td>\n",
       "        <td>NR</td>\n",
       "        <td>0.0</td>\n",
       "        <td>F</td>\n",
       "        <td>40.1</td>\n",
       "        <td>D</td>\n",
       "        <td>62.5</td>\n",
       "        <td>C</td>\n",
       "        <td>37.5</td>\n",
       "        <td>D</td>\n",
       "        <td>F</td>\n",
       "        <td>-8.39</td>\n",
       "        <td>NR</td>\n",
       "        <td>NC</td>\n",
       "        <td>C</td>\n",
       "        <td>-1</td>\n",
       "        <td>F</td>\n",
       "        <td>-5.7</td>\n",
       "        <td>NR</td>\n",
       "        <td>NR</td>\n",
       "        <td>NC</td>\n",
       "        <td>NR</td>\n",
       "        <td>NC</td>\n",
       "        <td>NR</td>\n",
       "        <td>NC</td>\n",
       "        <td>93.5</td>\n",
       "        <td>94.5</td>\n",
       "        <td>94.0</td>\n",
       "        <td>17.6</td>\n",
       "        <td>None</td>\n",
       "    </tr>\n",
       "</table>"
      ],
      "text/plain": [
       "[(43786, 'Cleveland Municipal', 224, 'Adlai Stevenson School', 'Cuyahoga', 'Region 3', '18300 Woda Avenue', 'Cleveland, OH, 44122-6441', '(216) 838-5300', 'Christopher T. Wyland', 443, 'D', 'F', 'F', 'NR', 0.0, 'F', '40.1', 'D', '62.5', 'C', '37.5', 'D', 'F', '-8.39', 'NR', 'NC', 'C', '-1', 'F', '-5.7', 'NR', 'NR', 'NC', 'NR', 'NC', 'NR', 'NC', 93.5, '94.5', '94.0', 17.6, None)]"
      ]
     },
     "execution_count": 217,
     "metadata": {},
     "output_type": "execute_result"
    }
   ],
   "source": [
    "%%sql\n",
    "SELECT *\n",
    "FROM Building_Overview_1718\n",
    "WHERE DistrictIRN = '043786'\n",
    "LIMIT 1"
   ]
  },
  {
   "cell_type": "code",
   "execution_count": 149,
   "id": "48113c58",
   "metadata": {},
   "outputs": [
    {
     "name": "stdout",
     "output_type": "stream",
     "text": [
      " * sqlite:///CMSD_db.db\n",
      "Done.\n"
     ]
    },
    {
     "data": {
      "text/plain": [
       "[]"
      ]
     },
     "execution_count": 149,
     "metadata": {},
     "output_type": "execute_result"
    }
   ],
   "source": [
    "%%sql\n",
    "CREATE TEMPORARY TABLE Temp_Building_Ratings_1718 AS\n",
    "SELECT \"DistrictIRN\", \"DistrictName\", \"BuildingIRN\", \"Address\", \"CityStateZip\", \"Enrollment2017-2018\" AS \"Enrollment\", \"AchievementComponentGrade\" AS \"LetterGradeofAchievementComponent\", \"IndicatorsMetGrade\" AS \"LetterGradeofPercentStandards\", \"PercentofIndicatorsMet\" AS \"PercentofStandardsMet\", \"PerformanceIndexGrade\" AS \"LetterGradeofPerformanceIndex\", \"PerformanceIndexPercent\", '2017-2018' AS SchoolYear\n",
    "FROM Building_Overview_1718\n",
    "WHERE DistrictIRN = '043786'\n",
    "/* I might drop the IndicatorsMetGrade column. While this appears to be the same as the LetterGradeofPercentStandards from the previous two years, I can't absolutely\n",
    "confirm this is the case, and this column isn't of necessary importance. However, to give myself some\n",
    "flexibility, I'll keep it for now, and then drop it from the unioned table later on."
   ]
  },
  {
   "cell_type": "code",
   "execution_count": 150,
   "id": "3b607c4f",
   "metadata": {},
   "outputs": [
    {
     "name": "stdout",
     "output_type": "stream",
     "text": [
      " * sqlite:///CMSD_db.db\n",
      "Done.\n"
     ]
    },
    {
     "data": {
      "text/html": [
       "<table>\n",
       "    <tr>\n",
       "        <th>cid</th>\n",
       "        <th>name</th>\n",
       "        <th>type</th>\n",
       "        <th>notnull</th>\n",
       "        <th>dflt_value</th>\n",
       "        <th>pk</th>\n",
       "    </tr>\n",
       "    <tr>\n",
       "        <td>0</td>\n",
       "        <td>DistrictIRN</td>\n",
       "        <td>INT</td>\n",
       "        <td>0</td>\n",
       "        <td>None</td>\n",
       "        <td>0</td>\n",
       "    </tr>\n",
       "    <tr>\n",
       "        <td>1</td>\n",
       "        <td>DistrictName</td>\n",
       "        <td>TEXT</td>\n",
       "        <td>0</td>\n",
       "        <td>None</td>\n",
       "        <td>0</td>\n",
       "    </tr>\n",
       "    <tr>\n",
       "        <td>2</td>\n",
       "        <td>BuildingIRN</td>\n",
       "        <td>INT</td>\n",
       "        <td>0</td>\n",
       "        <td>None</td>\n",
       "        <td>0</td>\n",
       "    </tr>\n",
       "    <tr>\n",
       "        <td>3</td>\n",
       "        <td>Address</td>\n",
       "        <td>TEXT</td>\n",
       "        <td>0</td>\n",
       "        <td>None</td>\n",
       "        <td>0</td>\n",
       "    </tr>\n",
       "    <tr>\n",
       "        <td>4</td>\n",
       "        <td>CityStateZip</td>\n",
       "        <td>TEXT</td>\n",
       "        <td>0</td>\n",
       "        <td>None</td>\n",
       "        <td>0</td>\n",
       "    </tr>\n",
       "    <tr>\n",
       "        <td>5</td>\n",
       "        <td>Enrollment</td>\n",
       "        <td>INT</td>\n",
       "        <td>0</td>\n",
       "        <td>None</td>\n",
       "        <td>0</td>\n",
       "    </tr>\n",
       "    <tr>\n",
       "        <td>6</td>\n",
       "        <td>LetterGradeofAchievementComponent</td>\n",
       "        <td>TEXT</td>\n",
       "        <td>0</td>\n",
       "        <td>None</td>\n",
       "        <td>0</td>\n",
       "    </tr>\n",
       "    <tr>\n",
       "        <td>7</td>\n",
       "        <td>LetterGradeofPercentStandards</td>\n",
       "        <td>TEXT</td>\n",
       "        <td>0</td>\n",
       "        <td>None</td>\n",
       "        <td>0</td>\n",
       "    </tr>\n",
       "    <tr>\n",
       "        <td>8</td>\n",
       "        <td>PercentofStandardsMet</td>\n",
       "        <td>REAL</td>\n",
       "        <td>0</td>\n",
       "        <td>None</td>\n",
       "        <td>0</td>\n",
       "    </tr>\n",
       "    <tr>\n",
       "        <td>9</td>\n",
       "        <td>LetterGradeofPerformanceIndex</td>\n",
       "        <td>TEXT</td>\n",
       "        <td>0</td>\n",
       "        <td>None</td>\n",
       "        <td>0</td>\n",
       "    </tr>\n",
       "    <tr>\n",
       "        <td>10</td>\n",
       "        <td>PerformanceIndexPercent</td>\n",
       "        <td>TEXT</td>\n",
       "        <td>0</td>\n",
       "        <td>None</td>\n",
       "        <td>0</td>\n",
       "    </tr>\n",
       "    <tr>\n",
       "        <td>11</td>\n",
       "        <td>SchoolYear</td>\n",
       "        <td></td>\n",
       "        <td>0</td>\n",
       "        <td>None</td>\n",
       "        <td>0</td>\n",
       "    </tr>\n",
       "</table>"
      ],
      "text/plain": [
       "[(0, 'DistrictIRN', 'INT', 0, None, 0),\n",
       " (1, 'DistrictName', 'TEXT', 0, None, 0),\n",
       " (2, 'BuildingIRN', 'INT', 0, None, 0),\n",
       " (3, 'Address', 'TEXT', 0, None, 0),\n",
       " (4, 'CityStateZip', 'TEXT', 0, None, 0),\n",
       " (5, 'Enrollment', 'INT', 0, None, 0),\n",
       " (6, 'LetterGradeofAchievementComponent', 'TEXT', 0, None, 0),\n",
       " (7, 'LetterGradeofPercentStandards', 'TEXT', 0, None, 0),\n",
       " (8, 'PercentofStandardsMet', 'REAL', 0, None, 0),\n",
       " (9, 'LetterGradeofPerformanceIndex', 'TEXT', 0, None, 0),\n",
       " (10, 'PerformanceIndexPercent', 'TEXT', 0, None, 0),\n",
       " (11, 'SchoolYear', '', 0, None, 0)]"
      ]
     },
     "execution_count": 150,
     "metadata": {},
     "output_type": "execute_result"
    }
   ],
   "source": [
    "%%sql\n",
    "PRAGMA table_info(Temp_Building_Ratings_1718)"
   ]
  },
  {
   "cell_type": "code",
   "execution_count": 151,
   "id": "2a5e56a1",
   "metadata": {},
   "outputs": [
    {
     "name": "stdout",
     "output_type": "stream",
     "text": [
      " * sqlite:///CMSD_db.db\n",
      "Done.\n"
     ]
    },
    {
     "data": {
      "text/html": [
       "<table>\n",
       "    <tr>\n",
       "        <th>building</th>\n",
       "        <th>District</th>\n",
       "        <th>Name</th>\n",
       "    </tr>\n",
       "    <tr>\n",
       "        <td>123</td>\n",
       "        <td>1</td>\n",
       "        <td>1</td>\n",
       "    </tr>\n",
       "</table>"
      ],
      "text/plain": [
       "[(123, 1, 1)]"
      ]
     },
     "execution_count": 151,
     "metadata": {},
     "output_type": "execute_result"
    }
   ],
   "source": [
    "%%sql\n",
    "SELECT COUNT (DISTINCT BuildingIRN) AS building, COUNT (DISTINCT DistrictIRN) AS District, COUNT (DISTINCT DistrictName) AS Name\n",
    "FROM Temp_Building_Ratings_1718"
   ]
  },
  {
   "cell_type": "markdown",
   "id": "998f6613",
   "metadata": {},
   "source": [
    "After checking the data types with my PRAGMA query earlier, I can see that PercentofStandardsMet is cast as REAL and PeformanceIndexPercent is cast as TEXT - neither of which are consistent with my other temp tables, so I will recast them to the correct data types now. \n",
    "\n",
    "Following this step, the PRAGMA results will show PercentofStandardsMet as TEXT (although it could be a REAL...), and PerformanceIndexPercent as REAL. Once I have finished forming the Union Table, then I can recast them if necessary in the final output file."
   ]
  },
  {
   "cell_type": "code",
   "execution_count": 218,
   "id": "e1f9f76d",
   "metadata": {},
   "outputs": [
    {
     "name": "stdout",
     "output_type": "stream",
     "text": [
      " * sqlite:///CMSD_db.db\n",
      "Done.\n"
     ]
    },
    {
     "data": {
      "text/html": [
       "<table>\n",
       "    <tr>\n",
       "        <th>PercentofStandardsMet</th>\n",
       "        <th>PerformanceIndexPercent</th>\n",
       "    </tr>\n",
       "    <tr>\n",
       "        <td>0.0</td>\n",
       "        <td>40.1</td>\n",
       "    </tr>\n",
       "</table>"
      ],
      "text/plain": [
       "[('0.0', 40.1)]"
      ]
     },
     "execution_count": 218,
     "metadata": {},
     "output_type": "execute_result"
    }
   ],
   "source": [
    "%%sql\n",
    "SELECT CAST(PercentofStandardsMet AS TEXT) AS PercentofStandardsMet, CAST(PerformanceIndexPercent AS REAL) AS PerformanceIndexPercent\n",
    "FROM Temp_Building_Ratings_1718\n",
    "LIMIT 1"
   ]
  },
  {
   "cell_type": "code",
   "execution_count": 153,
   "id": "e43f67d4",
   "metadata": {},
   "outputs": [
    {
     "name": "stdout",
     "output_type": "stream",
     "text": [
      " * sqlite:///CMSD_db.db\n",
      "Done.\n"
     ]
    },
    {
     "data": {
      "text/html": [
       "<table>\n",
       "    <tr>\n",
       "        <th>cid</th>\n",
       "        <th>name</th>\n",
       "        <th>type</th>\n",
       "        <th>notnull</th>\n",
       "        <th>dflt_value</th>\n",
       "        <th>pk</th>\n",
       "    </tr>\n",
       "    <tr>\n",
       "        <td>0</td>\n",
       "        <td>DistrictIRN</td>\n",
       "        <td>INT</td>\n",
       "        <td>0</td>\n",
       "        <td>None</td>\n",
       "        <td>0</td>\n",
       "    </tr>\n",
       "    <tr>\n",
       "        <td>1</td>\n",
       "        <td>DistrictName</td>\n",
       "        <td>TEXT</td>\n",
       "        <td>0</td>\n",
       "        <td>None</td>\n",
       "        <td>0</td>\n",
       "    </tr>\n",
       "    <tr>\n",
       "        <td>2</td>\n",
       "        <td>BuildingIRN</td>\n",
       "        <td>INT</td>\n",
       "        <td>0</td>\n",
       "        <td>None</td>\n",
       "        <td>0</td>\n",
       "    </tr>\n",
       "    <tr>\n",
       "        <td>3</td>\n",
       "        <td>Address</td>\n",
       "        <td>TEXT</td>\n",
       "        <td>0</td>\n",
       "        <td>None</td>\n",
       "        <td>0</td>\n",
       "    </tr>\n",
       "    <tr>\n",
       "        <td>4</td>\n",
       "        <td>CityStateZip</td>\n",
       "        <td>TEXT</td>\n",
       "        <td>0</td>\n",
       "        <td>None</td>\n",
       "        <td>0</td>\n",
       "    </tr>\n",
       "    <tr>\n",
       "        <td>5</td>\n",
       "        <td>Enrollment</td>\n",
       "        <td>INT</td>\n",
       "        <td>0</td>\n",
       "        <td>None</td>\n",
       "        <td>0</td>\n",
       "    </tr>\n",
       "    <tr>\n",
       "        <td>6</td>\n",
       "        <td>LetterGradeofAchievementComponent</td>\n",
       "        <td>TEXT</td>\n",
       "        <td>0</td>\n",
       "        <td>None</td>\n",
       "        <td>0</td>\n",
       "    </tr>\n",
       "    <tr>\n",
       "        <td>7</td>\n",
       "        <td>LetterGradeofPercentStandards</td>\n",
       "        <td>TEXT</td>\n",
       "        <td>0</td>\n",
       "        <td>None</td>\n",
       "        <td>0</td>\n",
       "    </tr>\n",
       "    <tr>\n",
       "        <td>8</td>\n",
       "        <td>PercentofStandardsMet</td>\n",
       "        <td>REAL</td>\n",
       "        <td>0</td>\n",
       "        <td>None</td>\n",
       "        <td>0</td>\n",
       "    </tr>\n",
       "    <tr>\n",
       "        <td>9</td>\n",
       "        <td>LetterGradeofPerformanceIndex</td>\n",
       "        <td>TEXT</td>\n",
       "        <td>0</td>\n",
       "        <td>None</td>\n",
       "        <td>0</td>\n",
       "    </tr>\n",
       "    <tr>\n",
       "        <td>10</td>\n",
       "        <td>PerformanceIndexPercent</td>\n",
       "        <td>TEXT</td>\n",
       "        <td>0</td>\n",
       "        <td>None</td>\n",
       "        <td>0</td>\n",
       "    </tr>\n",
       "    <tr>\n",
       "        <td>11</td>\n",
       "        <td>SchoolYear</td>\n",
       "        <td></td>\n",
       "        <td>0</td>\n",
       "        <td>None</td>\n",
       "        <td>0</td>\n",
       "    </tr>\n",
       "</table>"
      ],
      "text/plain": [
       "[(0, 'DistrictIRN', 'INT', 0, None, 0),\n",
       " (1, 'DistrictName', 'TEXT', 0, None, 0),\n",
       " (2, 'BuildingIRN', 'INT', 0, None, 0),\n",
       " (3, 'Address', 'TEXT', 0, None, 0),\n",
       " (4, 'CityStateZip', 'TEXT', 0, None, 0),\n",
       " (5, 'Enrollment', 'INT', 0, None, 0),\n",
       " (6, 'LetterGradeofAchievementComponent', 'TEXT', 0, None, 0),\n",
       " (7, 'LetterGradeofPercentStandards', 'TEXT', 0, None, 0),\n",
       " (8, 'PercentofStandardsMet', 'REAL', 0, None, 0),\n",
       " (9, 'LetterGradeofPerformanceIndex', 'TEXT', 0, None, 0),\n",
       " (10, 'PerformanceIndexPercent', 'TEXT', 0, None, 0),\n",
       " (11, 'SchoolYear', '', 0, None, 0)]"
      ]
     },
     "execution_count": 153,
     "metadata": {},
     "output_type": "execute_result"
    }
   ],
   "source": [
    "%%sql\n",
    "PRAGMA table_info(Temp_Building_Ratings_1718)"
   ]
  },
  {
   "cell_type": "markdown",
   "id": "87d974fd",
   "metadata": {},
   "source": [
    "### Combining Building Ratings into one table"
   ]
  },
  {
   "cell_type": "code",
   "execution_count": 175,
   "id": "17ba1c50",
   "metadata": {},
   "outputs": [
    {
     "name": "stdout",
     "output_type": "stream",
     "text": [
      " * sqlite:///CMSD_db.db\n",
      "Done.\n"
     ]
    },
    {
     "data": {
      "text/plain": [
       "[]"
      ]
     },
     "execution_count": 175,
     "metadata": {},
     "output_type": "execute_result"
    }
   ],
   "source": [
    "%%sql\n",
    "DROP TABLE Combined_Building_Ratings"
   ]
  },
  {
   "cell_type": "code",
   "execution_count": 176,
   "id": "ca73ea6b",
   "metadata": {},
   "outputs": [
    {
     "name": "stdout",
     "output_type": "stream",
     "text": [
      " * sqlite:///CMSD_db.db\n",
      "Done.\n"
     ]
    },
    {
     "data": {
      "text/plain": [
       "[]"
      ]
     },
     "execution_count": 176,
     "metadata": {},
     "output_type": "execute_result"
    }
   ],
   "source": [
    "%%sql\n",
    "CREATE TEMPORARY TABLE Combined_Building_Ratings AS\n",
    "SELECT * FROM Temp_Building_Ratings_1516\n",
    "UNION ALL\n",
    "SELECT * FROM Temp_Building_Ratings_1617\n",
    "UNION ALL\n",
    "SELECT * FROM Temp_Building_Ratings_1718;"
   ]
  },
  {
   "cell_type": "code",
   "execution_count": 177,
   "id": "7bd20d66",
   "metadata": {},
   "outputs": [
    {
     "name": "stdout",
     "output_type": "stream",
     "text": [
      " * sqlite:///CMSD_db.db\n",
      "Done.\n"
     ]
    },
    {
     "data": {
      "text/html": [
       "<table>\n",
       "    <tr>\n",
       "        <th>cid</th>\n",
       "        <th>name</th>\n",
       "        <th>type</th>\n",
       "        <th>notnull</th>\n",
       "        <th>dflt_value</th>\n",
       "        <th>pk</th>\n",
       "    </tr>\n",
       "    <tr>\n",
       "        <td>0</td>\n",
       "        <td>DistrictIRN</td>\n",
       "        <td>INT</td>\n",
       "        <td>0</td>\n",
       "        <td>None</td>\n",
       "        <td>0</td>\n",
       "    </tr>\n",
       "    <tr>\n",
       "        <td>1</td>\n",
       "        <td>DistrictName</td>\n",
       "        <td>TEXT</td>\n",
       "        <td>0</td>\n",
       "        <td>None</td>\n",
       "        <td>0</td>\n",
       "    </tr>\n",
       "    <tr>\n",
       "        <td>2</td>\n",
       "        <td>BuildingIRN</td>\n",
       "        <td>INT</td>\n",
       "        <td>0</td>\n",
       "        <td>None</td>\n",
       "        <td>0</td>\n",
       "    </tr>\n",
       "    <tr>\n",
       "        <td>3</td>\n",
       "        <td>Address</td>\n",
       "        <td>TEXT</td>\n",
       "        <td>0</td>\n",
       "        <td>None</td>\n",
       "        <td>0</td>\n",
       "    </tr>\n",
       "    <tr>\n",
       "        <td>4</td>\n",
       "        <td>CityStateZip</td>\n",
       "        <td>TEXT</td>\n",
       "        <td>0</td>\n",
       "        <td>None</td>\n",
       "        <td>0</td>\n",
       "    </tr>\n",
       "    <tr>\n",
       "        <td>5</td>\n",
       "        <td>Enrollment</td>\n",
       "        <td>INT</td>\n",
       "        <td>0</td>\n",
       "        <td>None</td>\n",
       "        <td>0</td>\n",
       "    </tr>\n",
       "    <tr>\n",
       "        <td>6</td>\n",
       "        <td>LetterGradeofAchievementComponent</td>\n",
       "        <td>TEXT</td>\n",
       "        <td>0</td>\n",
       "        <td>None</td>\n",
       "        <td>0</td>\n",
       "    </tr>\n",
       "    <tr>\n",
       "        <td>7</td>\n",
       "        <td>LetterGradeofPercentStandards</td>\n",
       "        <td>TEXT</td>\n",
       "        <td>0</td>\n",
       "        <td>None</td>\n",
       "        <td>0</td>\n",
       "    </tr>\n",
       "    <tr>\n",
       "        <td>8</td>\n",
       "        <td>PercentofStandardsMet</td>\n",
       "        <td></td>\n",
       "        <td>0</td>\n",
       "        <td>None</td>\n",
       "        <td>0</td>\n",
       "    </tr>\n",
       "    <tr>\n",
       "        <td>9</td>\n",
       "        <td>LetterGradeofPerformanceIndex</td>\n",
       "        <td>TEXT</td>\n",
       "        <td>0</td>\n",
       "        <td>None</td>\n",
       "        <td>0</td>\n",
       "    </tr>\n",
       "    <tr>\n",
       "        <td>10</td>\n",
       "        <td>PerformanceIndexPercent</td>\n",
       "        <td></td>\n",
       "        <td>0</td>\n",
       "        <td>None</td>\n",
       "        <td>0</td>\n",
       "    </tr>\n",
       "    <tr>\n",
       "        <td>11</td>\n",
       "        <td>SchoolYear</td>\n",
       "        <td></td>\n",
       "        <td>0</td>\n",
       "        <td>None</td>\n",
       "        <td>0</td>\n",
       "    </tr>\n",
       "</table>"
      ],
      "text/plain": [
       "[(0, 'DistrictIRN', 'INT', 0, None, 0),\n",
       " (1, 'DistrictName', 'TEXT', 0, None, 0),\n",
       " (2, 'BuildingIRN', 'INT', 0, None, 0),\n",
       " (3, 'Address', 'TEXT', 0, None, 0),\n",
       " (4, 'CityStateZip', 'TEXT', 0, None, 0),\n",
       " (5, 'Enrollment', 'INT', 0, None, 0),\n",
       " (6, 'LetterGradeofAchievementComponent', 'TEXT', 0, None, 0),\n",
       " (7, 'LetterGradeofPercentStandards', 'TEXT', 0, None, 0),\n",
       " (8, 'PercentofStandardsMet', '', 0, None, 0),\n",
       " (9, 'LetterGradeofPerformanceIndex', 'TEXT', 0, None, 0),\n",
       " (10, 'PerformanceIndexPercent', '', 0, None, 0),\n",
       " (11, 'SchoolYear', '', 0, None, 0)]"
      ]
     },
     "execution_count": 177,
     "metadata": {},
     "output_type": "execute_result"
    }
   ],
   "source": [
    "%%sql\n",
    "PRAGMA table_info(Combined_Building_Ratings)"
   ]
  },
  {
   "cell_type": "markdown",
   "id": "0c1dac96",
   "metadata": {},
   "source": [
    "Due to SQLite's type flexibilty, I have two columns that are not cast correctly. So, I'm going to recast them by creating a new table, forming the columns, and then repopulating the data."
   ]
  },
  {
   "cell_type": "code",
   "execution_count": 178,
   "id": "c0910e2f",
   "metadata": {},
   "outputs": [
    {
     "name": "stdout",
     "output_type": "stream",
     "text": [
      " * sqlite:///CMSD_db.db\n",
      "Done.\n"
     ]
    },
    {
     "data": {
      "text/plain": [
       "[]"
      ]
     },
     "execution_count": 178,
     "metadata": {},
     "output_type": "execute_result"
    }
   ],
   "source": [
    "%%sql\n",
    "CREATE TABLE Combined_Building_Ratings_cast (\n",
    "    DistrictIRN INT,\n",
    "    DistrictName TEXT,\n",
    "    BuildingIRN INT,\n",
    "    Address TEXT,\n",
    "    CityStateZip TEXT,\n",
    "    Enrollment INT,\n",
    "    LetterGradeofAchievementComponent TEXT,\n",
    "    LetterGradeofPercentStandards TEXT,\n",
    "    PercentofStandardsMet TEXT,\n",
    "    LetterGradeofPerformanceIndex TEXT,\n",
    "    PerformanceIndexPercent REAL,\n",
    "    SchoolYear TEXT\n",
    ");"
   ]
  },
  {
   "cell_type": "code",
   "execution_count": 179,
   "id": "0c1d684e",
   "metadata": {},
   "outputs": [
    {
     "name": "stdout",
     "output_type": "stream",
     "text": [
      " * sqlite:///CMSD_db.db\n",
      "356 rows affected.\n"
     ]
    },
    {
     "data": {
      "text/plain": [
       "[]"
      ]
     },
     "execution_count": 179,
     "metadata": {},
     "output_type": "execute_result"
    }
   ],
   "source": [
    "%%sql\n",
    "INSERT INTO Combined_Building_Ratings_cast\n",
    "SELECT CAST(DistrictIRN AS INT)\n",
    ", CAST(DistrictName AS TEXT)\n",
    ", CAST(BuildingIRN AS INT)\n",
    ", CAST(Address AS TEXT)\n",
    ", CAST(CityStateZip AS TEXT)\n",
    ", CAST(Enrollment AS INT)\n",
    ", CAST(LetterGradeofAchievementComponent AS TEXT)\n",
    ", CAST(LetterGradeofPercentStandards AS TEXT)\n",
    ", CAST(PercentofStandardsMet AS TEXT)\n",
    ", CAST(LetterGradeofPerformanceIndex AS TEXT)\n",
    ", CAST(PerformanceIndexPercent AS REAL)\n",
    ", CAST(SchoolYear AS TEXT)\n",
    "FROM Combined_Building_Ratings;"
   ]
  },
  {
   "cell_type": "code",
   "execution_count": 180,
   "id": "b60574cd",
   "metadata": {},
   "outputs": [
    {
     "name": "stdout",
     "output_type": "stream",
     "text": [
      " * sqlite:///CMSD_db.db\n",
      "Done.\n"
     ]
    },
    {
     "data": {
      "text/plain": [
       "[]"
      ]
     },
     "execution_count": 180,
     "metadata": {},
     "output_type": "execute_result"
    }
   ],
   "source": [
    "%%sql\n",
    "DROP TABLE Combined_Building_Ratings;"
   ]
  },
  {
   "cell_type": "code",
   "execution_count": 181,
   "id": "f6d7e16d",
   "metadata": {},
   "outputs": [
    {
     "name": "stdout",
     "output_type": "stream",
     "text": [
      " * sqlite:///CMSD_db.db\n",
      "Done.\n"
     ]
    },
    {
     "data": {
      "text/plain": [
       "[]"
      ]
     },
     "execution_count": 181,
     "metadata": {},
     "output_type": "execute_result"
    }
   ],
   "source": [
    "%%sql\n",
    "ALTER TABLE Combined_Building_Ratings_cast RENAME TO Combined_Building_Ratings;"
   ]
  },
  {
   "cell_type": "code",
   "execution_count": 182,
   "id": "2d1c2702",
   "metadata": {},
   "outputs": [
    {
     "name": "stdout",
     "output_type": "stream",
     "text": [
      " * sqlite:///CMSD_db.db\n",
      "Done.\n"
     ]
    },
    {
     "data": {
      "text/html": [
       "<table>\n",
       "    <tr>\n",
       "        <th>cid</th>\n",
       "        <th>name</th>\n",
       "        <th>type</th>\n",
       "        <th>notnull</th>\n",
       "        <th>dflt_value</th>\n",
       "        <th>pk</th>\n",
       "    </tr>\n",
       "    <tr>\n",
       "        <td>0</td>\n",
       "        <td>DistrictIRN</td>\n",
       "        <td>INT</td>\n",
       "        <td>0</td>\n",
       "        <td>None</td>\n",
       "        <td>0</td>\n",
       "    </tr>\n",
       "    <tr>\n",
       "        <td>1</td>\n",
       "        <td>DistrictName</td>\n",
       "        <td>TEXT</td>\n",
       "        <td>0</td>\n",
       "        <td>None</td>\n",
       "        <td>0</td>\n",
       "    </tr>\n",
       "    <tr>\n",
       "        <td>2</td>\n",
       "        <td>BuildingIRN</td>\n",
       "        <td>INT</td>\n",
       "        <td>0</td>\n",
       "        <td>None</td>\n",
       "        <td>0</td>\n",
       "    </tr>\n",
       "    <tr>\n",
       "        <td>3</td>\n",
       "        <td>Address</td>\n",
       "        <td>TEXT</td>\n",
       "        <td>0</td>\n",
       "        <td>None</td>\n",
       "        <td>0</td>\n",
       "    </tr>\n",
       "    <tr>\n",
       "        <td>4</td>\n",
       "        <td>CityStateZip</td>\n",
       "        <td>TEXT</td>\n",
       "        <td>0</td>\n",
       "        <td>None</td>\n",
       "        <td>0</td>\n",
       "    </tr>\n",
       "    <tr>\n",
       "        <td>5</td>\n",
       "        <td>Enrollment</td>\n",
       "        <td>INT</td>\n",
       "        <td>0</td>\n",
       "        <td>None</td>\n",
       "        <td>0</td>\n",
       "    </tr>\n",
       "    <tr>\n",
       "        <td>6</td>\n",
       "        <td>LetterGradeofAchievementComponent</td>\n",
       "        <td>TEXT</td>\n",
       "        <td>0</td>\n",
       "        <td>None</td>\n",
       "        <td>0</td>\n",
       "    </tr>\n",
       "    <tr>\n",
       "        <td>7</td>\n",
       "        <td>LetterGradeofPercentStandards</td>\n",
       "        <td>TEXT</td>\n",
       "        <td>0</td>\n",
       "        <td>None</td>\n",
       "        <td>0</td>\n",
       "    </tr>\n",
       "    <tr>\n",
       "        <td>8</td>\n",
       "        <td>PercentofStandardsMet</td>\n",
       "        <td>TEXT</td>\n",
       "        <td>0</td>\n",
       "        <td>None</td>\n",
       "        <td>0</td>\n",
       "    </tr>\n",
       "    <tr>\n",
       "        <td>9</td>\n",
       "        <td>LetterGradeofPerformanceIndex</td>\n",
       "        <td>TEXT</td>\n",
       "        <td>0</td>\n",
       "        <td>None</td>\n",
       "        <td>0</td>\n",
       "    </tr>\n",
       "    <tr>\n",
       "        <td>10</td>\n",
       "        <td>PerformanceIndexPercent</td>\n",
       "        <td>REAL</td>\n",
       "        <td>0</td>\n",
       "        <td>None</td>\n",
       "        <td>0</td>\n",
       "    </tr>\n",
       "    <tr>\n",
       "        <td>11</td>\n",
       "        <td>SchoolYear</td>\n",
       "        <td>TEXT</td>\n",
       "        <td>0</td>\n",
       "        <td>None</td>\n",
       "        <td>0</td>\n",
       "    </tr>\n",
       "</table>"
      ],
      "text/plain": [
       "[(0, 'DistrictIRN', 'INT', 0, None, 0),\n",
       " (1, 'DistrictName', 'TEXT', 0, None, 0),\n",
       " (2, 'BuildingIRN', 'INT', 0, None, 0),\n",
       " (3, 'Address', 'TEXT', 0, None, 0),\n",
       " (4, 'CityStateZip', 'TEXT', 0, None, 0),\n",
       " (5, 'Enrollment', 'INT', 0, None, 0),\n",
       " (6, 'LetterGradeofAchievementComponent', 'TEXT', 0, None, 0),\n",
       " (7, 'LetterGradeofPercentStandards', 'TEXT', 0, None, 0),\n",
       " (8, 'PercentofStandardsMet', 'TEXT', 0, None, 0),\n",
       " (9, 'LetterGradeofPerformanceIndex', 'TEXT', 0, None, 0),\n",
       " (10, 'PerformanceIndexPercent', 'REAL', 0, None, 0),\n",
       " (11, 'SchoolYear', 'TEXT', 0, None, 0)]"
      ]
     },
     "execution_count": 182,
     "metadata": {},
     "output_type": "execute_result"
    }
   ],
   "source": [
    "%%sql\n",
    "PRAGMA table_info(Combined_Building_Ratings)"
   ]
  },
  {
   "cell_type": "code",
   "execution_count": 162,
   "id": "596849f8",
   "metadata": {},
   "outputs": [
    {
     "name": "stdout",
     "output_type": "stream",
     "text": [
      " * sqlite:///CMSD_db.db\n",
      "Done.\n"
     ]
    },
    {
     "data": {
      "text/html": [
       "<table>\n",
       "    <tr>\n",
       "        <th>building</th>\n",
       "        <th>District</th>\n",
       "        <th>Name</th>\n",
       "    </tr>\n",
       "    <tr>\n",
       "        <td>128</td>\n",
       "        <td>1</td>\n",
       "        <td>2</td>\n",
       "    </tr>\n",
       "</table>"
      ],
      "text/plain": [
       "[(128, 1, 2)]"
      ]
     },
     "execution_count": 162,
     "metadata": {},
     "output_type": "execute_result"
    }
   ],
   "source": [
    "%%sql\n",
    "SELECT COUNT (DISTINCT BuildingIRN) AS building, COUNT (DISTINCT DistrictIRN) AS District, COUNT (DISTINCT DistrictName) AS Name\n",
    "FROM Combined_Building_Ratings"
   ]
  },
  {
   "cell_type": "code",
   "execution_count": 183,
   "id": "b48c5f0b",
   "metadata": {},
   "outputs": [
    {
     "name": "stdout",
     "output_type": "stream",
     "text": [
      " * sqlite:///CMSD_db.db\n",
      "Done.\n"
     ]
    },
    {
     "data": {
      "text/html": [
       "<table>\n",
       "    <tr>\n",
       "        <th>DistrictName</th>\n",
       "        <th>Count</th>\n",
       "    </tr>\n",
       "    <tr>\n",
       "        <td>Cleveland Municipal</td>\n",
       "        <td>123</td>\n",
       "    </tr>\n",
       "    <tr>\n",
       "        <td>Cleveland Municipal City</td>\n",
       "        <td>233</td>\n",
       "    </tr>\n",
       "</table>"
      ],
      "text/plain": [
       "[('Cleveland Municipal', 123), ('Cleveland Municipal City', 233)]"
      ]
     },
     "execution_count": 183,
     "metadata": {},
     "output_type": "execute_result"
    }
   ],
   "source": [
    "%%sql\n",
    "SELECT DISTINCT DistrictName, COUNT(*) AS Count\n",
    "FROM Combined_Building_Ratings\n",
    "GROUP BY DistrictName;"
   ]
  },
  {
   "cell_type": "code",
   "execution_count": 184,
   "id": "f9dc1d4b",
   "metadata": {},
   "outputs": [
    {
     "name": "stdout",
     "output_type": "stream",
     "text": [
      " * sqlite:///CMSD_db.db\n",
      "Done.\n"
     ]
    },
    {
     "data": {
      "text/html": [
       "<table>\n",
       "    <tr>\n",
       "        <th>DistrictName</th>\n",
       "        <th>Count</th>\n",
       "    </tr>\n",
       "    <tr>\n",
       "        <td>Cleveland Municipal City</td>\n",
       "        <td>117</td>\n",
       "    </tr>\n",
       "</table>"
      ],
      "text/plain": [
       "[('Cleveland Municipal City', 117)]"
      ]
     },
     "execution_count": 184,
     "metadata": {},
     "output_type": "execute_result"
    }
   ],
   "source": [
    "%%sql\n",
    "SELECT DISTINCT DistrictName, COUNT(*) AS Count\n",
    "FROM Temp_Building_Ratings_1516\n",
    "GROUP BY DistrictName;"
   ]
  },
  {
   "cell_type": "code",
   "execution_count": 185,
   "id": "b1da3890",
   "metadata": {},
   "outputs": [
    {
     "name": "stdout",
     "output_type": "stream",
     "text": [
      " * sqlite:///CMSD_db.db\n",
      "Done.\n"
     ]
    },
    {
     "data": {
      "text/html": [
       "<table>\n",
       "    <tr>\n",
       "        <th>DistrictName</th>\n",
       "        <th>Count</th>\n",
       "    </tr>\n",
       "    <tr>\n",
       "        <td>Cleveland Municipal City</td>\n",
       "        <td>116</td>\n",
       "    </tr>\n",
       "</table>"
      ],
      "text/plain": [
       "[('Cleveland Municipal City', 116)]"
      ]
     },
     "execution_count": 185,
     "metadata": {},
     "output_type": "execute_result"
    }
   ],
   "source": [
    "%%sql\n",
    "SELECT DISTINCT DistrictName, COUNT(*) AS Count\n",
    "FROM Temp_Building_Ratings_1617\n",
    "GROUP BY DistrictName;"
   ]
  },
  {
   "cell_type": "code",
   "execution_count": 186,
   "id": "c066671a",
   "metadata": {},
   "outputs": [
    {
     "name": "stdout",
     "output_type": "stream",
     "text": [
      " * sqlite:///CMSD_db.db\n",
      "Done.\n"
     ]
    },
    {
     "data": {
      "text/html": [
       "<table>\n",
       "    <tr>\n",
       "        <th>DistrictName</th>\n",
       "        <th>Count</th>\n",
       "    </tr>\n",
       "    <tr>\n",
       "        <td>Cleveland Municipal</td>\n",
       "        <td>123</td>\n",
       "    </tr>\n",
       "</table>"
      ],
      "text/plain": [
       "[('Cleveland Municipal', 123)]"
      ]
     },
     "execution_count": 186,
     "metadata": {},
     "output_type": "execute_result"
    }
   ],
   "source": [
    "%%sql\n",
    "SELECT DISTINCT DistrictName, COUNT(*) AS Count\n",
    "FROM Temp_Building_Ratings_1718\n",
    "GROUP BY DistrictName;"
   ]
  },
  {
   "cell_type": "code",
   "execution_count": 187,
   "id": "e2b92996",
   "metadata": {},
   "outputs": [
    {
     "name": "stdout",
     "output_type": "stream",
     "text": [
      " * sqlite:///CMSD_db.db\n",
      "123 rows affected.\n"
     ]
    },
    {
     "data": {
      "text/plain": [
       "[]"
      ]
     },
     "execution_count": 187,
     "metadata": {},
     "output_type": "execute_result"
    }
   ],
   "source": [
    "%%sql\n",
    "UPDATE Combined_Building_Ratings\n",
    "SET DistrictName = 'Cleveland Municipal City'\n",
    "WHERE DistrictName = 'Cleveland Municipal';"
   ]
  },
  {
   "cell_type": "code",
   "execution_count": 219,
   "id": "21b9f386",
   "metadata": {},
   "outputs": [
    {
     "name": "stdout",
     "output_type": "stream",
     "text": [
      " * sqlite:///CMSD_db.db\n",
      "Done.\n"
     ]
    },
    {
     "data": {
      "text/html": [
       "<table>\n",
       "    <tr>\n",
       "        <th>DistrictIRN</th>\n",
       "        <th>DistrictName</th>\n",
       "        <th>BuildingIRN</th>\n",
       "        <th>Address</th>\n",
       "        <th>CityStateZip</th>\n",
       "        <th>Enrollment</th>\n",
       "        <th>LetterGradeofAchievementComponent</th>\n",
       "        <th>LetterGradeofPercentStandards</th>\n",
       "        <th>PercentofStandardsMet</th>\n",
       "        <th>LetterGradeofPerformanceIndex</th>\n",
       "        <th>PerformanceIndexPercent</th>\n",
       "        <th>SchoolYear</th>\n",
       "    </tr>\n",
       "    <tr>\n",
       "        <td>43786</td>\n",
       "        <td>Cleveland Municipal City</td>\n",
       "        <td>224</td>\n",
       "        <td>18300 Woda Avenue</td>\n",
       "        <td>Cleveland, OH, 44122-6441</td>\n",
       "        <td>430</td>\n",
       "        <td>F</td>\n",
       "        <td>F</td>\n",
       "        <td>0.0</td>\n",
       "        <td>F</td>\n",
       "        <td>36.6</td>\n",
       "        <td>2015-2016</td>\n",
       "    </tr>\n",
       "</table>"
      ],
      "text/plain": [
       "[(43786, 'Cleveland Municipal City', 224, '18300 Woda Avenue', 'Cleveland, OH, 44122-6441', 430, 'F', 'F', '0.0', 'F', 36.6, '2015-2016')]"
      ]
     },
     "execution_count": 219,
     "metadata": {},
     "output_type": "execute_result"
    }
   ],
   "source": [
    "%%sql\n",
    "SELECT *\n",
    "FROM Combined_Building_Ratings\n",
    "LIMIT 1"
   ]
  },
  {
   "cell_type": "markdown",
   "id": "9ea55b30",
   "metadata": {},
   "source": [
    "All done with the Building Ratings! All of my columns look good, the data types are correct, and the table looks good. The only potential issue is the difference in records between this table and my Achievement Table, but we'll cross that bridge after the next section."
   ]
  },
  {
   "cell_type": "markdown",
   "id": "66092614",
   "metadata": {},
   "source": [
    "# Overall Value Added Grade"
   ]
  },
  {
   "cell_type": "markdown",
   "id": "a05f069d",
   "metadata": {},
   "source": [
    "Judging by the columns in Overall Grade, I am looking at only taking a few columns from this data. We'll focus on the required columns, and then also take Overall Composite (although I must say, I don't really know what this is right now - but it's numeric and fluctuates, so maybe it's useful). Aside from that, the gifted, composite, and percentile values are likely outside the scope of my analysis."
   ]
  },
  {
   "cell_type": "code",
   "execution_count": 220,
   "id": "5ca18416",
   "metadata": {},
   "outputs": [
    {
     "name": "stdout",
     "output_type": "stream",
     "text": [
      " * sqlite:///CMSD_db.db\n",
      "Done.\n"
     ]
    },
    {
     "data": {
      "text/html": [
       "<table>\n",
       "    <tr>\n",
       "        <th>DistrictIRN</th>\n",
       "        <th>DistrictName</th>\n",
       "        <th>BuildingIRN</th>\n",
       "        <th>BuildingName</th>\n",
       "        <th>County</th>\n",
       "        <th>Region</th>\n",
       "        <th>OverallValueAddedGrade</th>\n",
       "        <th>OverallComposite</th>\n",
       "        <th>GiftedValueAddedGrade</th>\n",
       "        <th>GiftedComposite</th>\n",
       "        <th>StudentswithDisabilitiesValueAddedGrade</th>\n",
       "        <th>StudentswithDisabilitiescomposite</th>\n",
       "        <th>Lowest20%ValueAddedGrade</th>\n",
       "        <th>Lowest20%ValueAddedComposite</th>\n",
       "        <th>HighMobilityValueAddedGrade</th>\n",
       "        <th>HighMobilityComposite</th>\n",
       "        <th>Watermark</th>\n",
       "    </tr>\n",
       "    <tr>\n",
       "        <td>43786</td>\n",
       "        <td>Cleveland Municipal City</td>\n",
       "        <td>224</td>\n",
       "        <td>Adlai Stevenson School</td>\n",
       "        <td>Cuyahoga</td>\n",
       "        <td>Region 3</td>\n",
       "        <td>F</td>\n",
       "        <td>-6.56</td>\n",
       "        <td>NR</td>\n",
       "        <td>NC</td>\n",
       "        <td>F</td>\n",
       "        <td>-3.48</td>\n",
       "        <td>F</td>\n",
       "        <td>-4.40</td>\n",
       "        <td>F</td>\n",
       "        <td>-6.09</td>\n",
       "        <td>None</td>\n",
       "    </tr>\n",
       "</table>"
      ],
      "text/plain": [
       "[(43786, 'Cleveland Municipal City', 224, 'Adlai Stevenson School', 'Cuyahoga', 'Region 3', 'F', -6.56, 'NR', 'NC', 'F', '-3.48', 'F', '-4.40', 'F', '-6.09', None)]"
      ]
     },
     "execution_count": 220,
     "metadata": {},
     "output_type": "execute_result"
    }
   ],
   "source": [
    "%%sql\n",
    "SELECT *\n",
    "FROM VA_org_1516\n",
    "WHERE DistrictIRN = '043786'\n",
    "LIMIT 1"
   ]
  },
  {
   "cell_type": "code",
   "execution_count": 94,
   "id": "6ade011f",
   "metadata": {},
   "outputs": [
    {
     "name": "stdout",
     "output_type": "stream",
     "text": [
      " * sqlite:///CMSD_db.db\n",
      "Done.\n"
     ]
    },
    {
     "data": {
      "text/html": [
       "<table>\n",
       "    <tr>\n",
       "        <th>cid</th>\n",
       "        <th>name</th>\n",
       "        <th>type</th>\n",
       "        <th>notnull</th>\n",
       "        <th>dflt_value</th>\n",
       "        <th>pk</th>\n",
       "    </tr>\n",
       "    <tr>\n",
       "        <td>0</td>\n",
       "        <td>DistrictIRN</td>\n",
       "        <td>INTEGER</td>\n",
       "        <td>0</td>\n",
       "        <td>None</td>\n",
       "        <td>0</td>\n",
       "    </tr>\n",
       "    <tr>\n",
       "        <td>1</td>\n",
       "        <td>DistrictName</td>\n",
       "        <td>TEXT</td>\n",
       "        <td>0</td>\n",
       "        <td>None</td>\n",
       "        <td>0</td>\n",
       "    </tr>\n",
       "    <tr>\n",
       "        <td>2</td>\n",
       "        <td>BuildingIRN</td>\n",
       "        <td>INTEGER</td>\n",
       "        <td>0</td>\n",
       "        <td>None</td>\n",
       "        <td>0</td>\n",
       "    </tr>\n",
       "    <tr>\n",
       "        <td>3</td>\n",
       "        <td>BuildingName</td>\n",
       "        <td>TEXT</td>\n",
       "        <td>0</td>\n",
       "        <td>None</td>\n",
       "        <td>0</td>\n",
       "    </tr>\n",
       "    <tr>\n",
       "        <td>4</td>\n",
       "        <td>County</td>\n",
       "        <td>TEXT</td>\n",
       "        <td>0</td>\n",
       "        <td>None</td>\n",
       "        <td>0</td>\n",
       "    </tr>\n",
       "    <tr>\n",
       "        <td>5</td>\n",
       "        <td>Region</td>\n",
       "        <td>TEXT</td>\n",
       "        <td>0</td>\n",
       "        <td>None</td>\n",
       "        <td>0</td>\n",
       "    </tr>\n",
       "    <tr>\n",
       "        <td>6</td>\n",
       "        <td>OverallValueAddedGrade</td>\n",
       "        <td>TEXT</td>\n",
       "        <td>0</td>\n",
       "        <td>None</td>\n",
       "        <td>0</td>\n",
       "    </tr>\n",
       "    <tr>\n",
       "        <td>7</td>\n",
       "        <td>OverallComposite</td>\n",
       "        <td>REAL</td>\n",
       "        <td>0</td>\n",
       "        <td>None</td>\n",
       "        <td>0</td>\n",
       "    </tr>\n",
       "    <tr>\n",
       "        <td>8</td>\n",
       "        <td>GiftedValueAddedGrade</td>\n",
       "        <td>TEXT</td>\n",
       "        <td>0</td>\n",
       "        <td>None</td>\n",
       "        <td>0</td>\n",
       "    </tr>\n",
       "    <tr>\n",
       "        <td>9</td>\n",
       "        <td>GiftedComposite</td>\n",
       "        <td>TEXT</td>\n",
       "        <td>0</td>\n",
       "        <td>None</td>\n",
       "        <td>0</td>\n",
       "    </tr>\n",
       "    <tr>\n",
       "        <td>10</td>\n",
       "        <td>StudentswithDisabilitiesValueAddedGrade</td>\n",
       "        <td>TEXT</td>\n",
       "        <td>0</td>\n",
       "        <td>None</td>\n",
       "        <td>0</td>\n",
       "    </tr>\n",
       "    <tr>\n",
       "        <td>11</td>\n",
       "        <td>StudentswithDisabilitiescomposite</td>\n",
       "        <td>TEXT</td>\n",
       "        <td>0</td>\n",
       "        <td>None</td>\n",
       "        <td>0</td>\n",
       "    </tr>\n",
       "    <tr>\n",
       "        <td>12</td>\n",
       "        <td>Lowest20%ValueAddedGrade</td>\n",
       "        <td>TEXT</td>\n",
       "        <td>0</td>\n",
       "        <td>None</td>\n",
       "        <td>0</td>\n",
       "    </tr>\n",
       "    <tr>\n",
       "        <td>13</td>\n",
       "        <td>Lowest20%ValueAddedComposite</td>\n",
       "        <td>TEXT</td>\n",
       "        <td>0</td>\n",
       "        <td>None</td>\n",
       "        <td>0</td>\n",
       "    </tr>\n",
       "    <tr>\n",
       "        <td>14</td>\n",
       "        <td>HighMobilityValueAddedGrade</td>\n",
       "        <td>TEXT</td>\n",
       "        <td>0</td>\n",
       "        <td>None</td>\n",
       "        <td>0</td>\n",
       "    </tr>\n",
       "    <tr>\n",
       "        <td>15</td>\n",
       "        <td>HighMobilityComposite</td>\n",
       "        <td>TEXT</td>\n",
       "        <td>0</td>\n",
       "        <td>None</td>\n",
       "        <td>0</td>\n",
       "    </tr>\n",
       "    <tr>\n",
       "        <td>16</td>\n",
       "        <td>Watermark</td>\n",
       "        <td>TEXT</td>\n",
       "        <td>0</td>\n",
       "        <td>None</td>\n",
       "        <td>0</td>\n",
       "    </tr>\n",
       "</table>"
      ],
      "text/plain": [
       "[(0, 'DistrictIRN', 'INTEGER', 0, None, 0),\n",
       " (1, 'DistrictName', 'TEXT', 0, None, 0),\n",
       " (2, 'BuildingIRN', 'INTEGER', 0, None, 0),\n",
       " (3, 'BuildingName', 'TEXT', 0, None, 0),\n",
       " (4, 'County', 'TEXT', 0, None, 0),\n",
       " (5, 'Region', 'TEXT', 0, None, 0),\n",
       " (6, 'OverallValueAddedGrade', 'TEXT', 0, None, 0),\n",
       " (7, 'OverallComposite', 'REAL', 0, None, 0),\n",
       " (8, 'GiftedValueAddedGrade', 'TEXT', 0, None, 0),\n",
       " (9, 'GiftedComposite', 'TEXT', 0, None, 0),\n",
       " (10, 'StudentswithDisabilitiesValueAddedGrade', 'TEXT', 0, None, 0),\n",
       " (11, 'StudentswithDisabilitiescomposite', 'TEXT', 0, None, 0),\n",
       " (12, 'Lowest20%ValueAddedGrade', 'TEXT', 0, None, 0),\n",
       " (13, 'Lowest20%ValueAddedComposite', 'TEXT', 0, None, 0),\n",
       " (14, 'HighMobilityValueAddedGrade', 'TEXT', 0, None, 0),\n",
       " (15, 'HighMobilityComposite', 'TEXT', 0, None, 0),\n",
       " (16, 'Watermark', 'TEXT', 0, None, 0)]"
      ]
     },
     "execution_count": 94,
     "metadata": {},
     "output_type": "execute_result"
    }
   ],
   "source": [
    "%%sql\n",
    "PRAGMA table_info(VA_org_1516)"
   ]
  },
  {
   "cell_type": "code",
   "execution_count": 103,
   "id": "494e0e63",
   "metadata": {},
   "outputs": [
    {
     "name": "stdout",
     "output_type": "stream",
     "text": [
      " * sqlite:///CMSD_db.db\n",
      "Done.\n"
     ]
    },
    {
     "data": {
      "text/plain": [
       "[]"
      ]
     },
     "execution_count": 103,
     "metadata": {},
     "output_type": "execute_result"
    }
   ],
   "source": [
    "%%sql\n",
    "CREATE TEMPORARY TABLE Temp_VA_1516 AS\n",
    "SELECT \"DistrictIRN\", \"DistrictName\", \"BuildingIRN\", \"OverallValueAddedGrade\", \"OverallComposite\", '2015-2016' AS SchoolYear\n",
    "FROM VA_org_1516\n",
    "WHERE DistrictIRN = '043786'"
   ]
  },
  {
   "cell_type": "code",
   "execution_count": 104,
   "id": "6b17cb5d",
   "metadata": {},
   "outputs": [
    {
     "name": "stdout",
     "output_type": "stream",
     "text": [
      " * sqlite:///CMSD_db.db\n",
      "Done.\n"
     ]
    },
    {
     "data": {
      "text/html": [
       "<table>\n",
       "    <tr>\n",
       "        <th>cid</th>\n",
       "        <th>name</th>\n",
       "        <th>type</th>\n",
       "        <th>notnull</th>\n",
       "        <th>dflt_value</th>\n",
       "        <th>pk</th>\n",
       "    </tr>\n",
       "    <tr>\n",
       "        <td>0</td>\n",
       "        <td>DistrictIRN</td>\n",
       "        <td>INT</td>\n",
       "        <td>0</td>\n",
       "        <td>None</td>\n",
       "        <td>0</td>\n",
       "    </tr>\n",
       "    <tr>\n",
       "        <td>1</td>\n",
       "        <td>DistrictName</td>\n",
       "        <td>TEXT</td>\n",
       "        <td>0</td>\n",
       "        <td>None</td>\n",
       "        <td>0</td>\n",
       "    </tr>\n",
       "    <tr>\n",
       "        <td>2</td>\n",
       "        <td>BuildingIRN</td>\n",
       "        <td>INT</td>\n",
       "        <td>0</td>\n",
       "        <td>None</td>\n",
       "        <td>0</td>\n",
       "    </tr>\n",
       "    <tr>\n",
       "        <td>3</td>\n",
       "        <td>OverallValueAddedGrade</td>\n",
       "        <td>TEXT</td>\n",
       "        <td>0</td>\n",
       "        <td>None</td>\n",
       "        <td>0</td>\n",
       "    </tr>\n",
       "    <tr>\n",
       "        <td>4</td>\n",
       "        <td>OverallComposite</td>\n",
       "        <td>REAL</td>\n",
       "        <td>0</td>\n",
       "        <td>None</td>\n",
       "        <td>0</td>\n",
       "    </tr>\n",
       "    <tr>\n",
       "        <td>5</td>\n",
       "        <td>SchoolYear</td>\n",
       "        <td></td>\n",
       "        <td>0</td>\n",
       "        <td>None</td>\n",
       "        <td>0</td>\n",
       "    </tr>\n",
       "</table>"
      ],
      "text/plain": [
       "[(0, 'DistrictIRN', 'INT', 0, None, 0),\n",
       " (1, 'DistrictName', 'TEXT', 0, None, 0),\n",
       " (2, 'BuildingIRN', 'INT', 0, None, 0),\n",
       " (3, 'OverallValueAddedGrade', 'TEXT', 0, None, 0),\n",
       " (4, 'OverallComposite', 'REAL', 0, None, 0),\n",
       " (5, 'SchoolYear', '', 0, None, 0)]"
      ]
     },
     "execution_count": 104,
     "metadata": {},
     "output_type": "execute_result"
    }
   ],
   "source": [
    "%%sql\n",
    "PRAGMA table_info(Temp_VA_1516)"
   ]
  },
  {
   "cell_type": "code",
   "execution_count": 112,
   "id": "ed922ec5",
   "metadata": {},
   "outputs": [
    {
     "name": "stdout",
     "output_type": "stream",
     "text": [
      " * sqlite:///CMSD_db.db\n",
      "Done.\n"
     ]
    },
    {
     "data": {
      "text/plain": [
       "[]"
      ]
     },
     "execution_count": 112,
     "metadata": {},
     "output_type": "execute_result"
    }
   ],
   "source": [
    "%%sql\n",
    "CREATE TEMPORARY TABLE Temp_VA_1617 AS\n",
    "SELECT \"DistrictIRN\", \"DistrictName\", \"BuildingIRN\", \"OverallValueAddedGrade\", \"OverallComposite\", '2016-2017' AS SchoolYear\n",
    "FROM VA_org_1617\n",
    "WHERE DistrictIRN = '043786'"
   ]
  },
  {
   "cell_type": "code",
   "execution_count": 113,
   "id": "580762e4",
   "metadata": {},
   "outputs": [
    {
     "name": "stdout",
     "output_type": "stream",
     "text": [
      " * sqlite:///CMSD_db.db\n",
      "Done.\n"
     ]
    },
    {
     "data": {
      "text/html": [
       "<table>\n",
       "    <tr>\n",
       "        <th>cid</th>\n",
       "        <th>name</th>\n",
       "        <th>type</th>\n",
       "        <th>notnull</th>\n",
       "        <th>dflt_value</th>\n",
       "        <th>pk</th>\n",
       "    </tr>\n",
       "    <tr>\n",
       "        <td>0</td>\n",
       "        <td>DistrictIRN</td>\n",
       "        <td>INT</td>\n",
       "        <td>0</td>\n",
       "        <td>None</td>\n",
       "        <td>0</td>\n",
       "    </tr>\n",
       "    <tr>\n",
       "        <td>1</td>\n",
       "        <td>DistrictName</td>\n",
       "        <td>TEXT</td>\n",
       "        <td>0</td>\n",
       "        <td>None</td>\n",
       "        <td>0</td>\n",
       "    </tr>\n",
       "    <tr>\n",
       "        <td>2</td>\n",
       "        <td>BuildingIRN</td>\n",
       "        <td>INT</td>\n",
       "        <td>0</td>\n",
       "        <td>None</td>\n",
       "        <td>0</td>\n",
       "    </tr>\n",
       "    <tr>\n",
       "        <td>3</td>\n",
       "        <td>OverallValueAddedGrade</td>\n",
       "        <td>TEXT</td>\n",
       "        <td>0</td>\n",
       "        <td>None</td>\n",
       "        <td>0</td>\n",
       "    </tr>\n",
       "    <tr>\n",
       "        <td>4</td>\n",
       "        <td>OverallComposite</td>\n",
       "        <td>REAL</td>\n",
       "        <td>0</td>\n",
       "        <td>None</td>\n",
       "        <td>0</td>\n",
       "    </tr>\n",
       "    <tr>\n",
       "        <td>5</td>\n",
       "        <td>SchoolYear</td>\n",
       "        <td></td>\n",
       "        <td>0</td>\n",
       "        <td>None</td>\n",
       "        <td>0</td>\n",
       "    </tr>\n",
       "</table>"
      ],
      "text/plain": [
       "[(0, 'DistrictIRN', 'INT', 0, None, 0),\n",
       " (1, 'DistrictName', 'TEXT', 0, None, 0),\n",
       " (2, 'BuildingIRN', 'INT', 0, None, 0),\n",
       " (3, 'OverallValueAddedGrade', 'TEXT', 0, None, 0),\n",
       " (4, 'OverallComposite', 'REAL', 0, None, 0),\n",
       " (5, 'SchoolYear', '', 0, None, 0)]"
      ]
     },
     "execution_count": 113,
     "metadata": {},
     "output_type": "execute_result"
    }
   ],
   "source": [
    "%%sql\n",
    "PRAGMA table_info(Temp_VA_1617)"
   ]
  },
  {
   "cell_type": "code",
   "execution_count": 115,
   "id": "c562a418",
   "metadata": {},
   "outputs": [
    {
     "name": "stdout",
     "output_type": "stream",
     "text": [
      " * sqlite:///CMSD_db.db\n",
      "Done.\n"
     ]
    },
    {
     "data": {
      "text/plain": [
       "[]"
      ]
     },
     "execution_count": 115,
     "metadata": {},
     "output_type": "execute_result"
    }
   ],
   "source": [
    "%%sql\n",
    "CREATE TEMPORARY TABLE Temp_VA_1718 AS\n",
    "SELECT \"DistrictIRN\", \"DistrictName\", \"BuildingIRN\", \"OverallValueAddedGrade\", \"OverallComposite\", '2017-2018' AS SchoolYear\n",
    "FROM VA_ORG_1718\n",
    "WHERE DistrictIRN = '043786'"
   ]
  },
  {
   "cell_type": "code",
   "execution_count": 116,
   "id": "fa434da5",
   "metadata": {},
   "outputs": [
    {
     "name": "stdout",
     "output_type": "stream",
     "text": [
      " * sqlite:///CMSD_db.db\n",
      "Done.\n"
     ]
    },
    {
     "data": {
      "text/html": [
       "<table>\n",
       "    <tr>\n",
       "        <th>cid</th>\n",
       "        <th>name</th>\n",
       "        <th>type</th>\n",
       "        <th>notnull</th>\n",
       "        <th>dflt_value</th>\n",
       "        <th>pk</th>\n",
       "    </tr>\n",
       "    <tr>\n",
       "        <td>0</td>\n",
       "        <td>DistrictIRN</td>\n",
       "        <td>INT</td>\n",
       "        <td>0</td>\n",
       "        <td>None</td>\n",
       "        <td>0</td>\n",
       "    </tr>\n",
       "    <tr>\n",
       "        <td>1</td>\n",
       "        <td>DistrictName</td>\n",
       "        <td>TEXT</td>\n",
       "        <td>0</td>\n",
       "        <td>None</td>\n",
       "        <td>0</td>\n",
       "    </tr>\n",
       "    <tr>\n",
       "        <td>2</td>\n",
       "        <td>BuildingIRN</td>\n",
       "        <td>INT</td>\n",
       "        <td>0</td>\n",
       "        <td>None</td>\n",
       "        <td>0</td>\n",
       "    </tr>\n",
       "    <tr>\n",
       "        <td>3</td>\n",
       "        <td>OverallValueAddedGrade</td>\n",
       "        <td>TEXT</td>\n",
       "        <td>0</td>\n",
       "        <td>None</td>\n",
       "        <td>0</td>\n",
       "    </tr>\n",
       "    <tr>\n",
       "        <td>4</td>\n",
       "        <td>OverallComposite</td>\n",
       "        <td>REAL</td>\n",
       "        <td>0</td>\n",
       "        <td>None</td>\n",
       "        <td>0</td>\n",
       "    </tr>\n",
       "    <tr>\n",
       "        <td>5</td>\n",
       "        <td>SchoolYear</td>\n",
       "        <td></td>\n",
       "        <td>0</td>\n",
       "        <td>None</td>\n",
       "        <td>0</td>\n",
       "    </tr>\n",
       "</table>"
      ],
      "text/plain": [
       "[(0, 'DistrictIRN', 'INT', 0, None, 0),\n",
       " (1, 'DistrictName', 'TEXT', 0, None, 0),\n",
       " (2, 'BuildingIRN', 'INT', 0, None, 0),\n",
       " (3, 'OverallValueAddedGrade', 'TEXT', 0, None, 0),\n",
       " (4, 'OverallComposite', 'REAL', 0, None, 0),\n",
       " (5, 'SchoolYear', '', 0, None, 0)]"
      ]
     },
     "execution_count": 116,
     "metadata": {},
     "output_type": "execute_result"
    }
   ],
   "source": [
    "%%sql\n",
    "PRAGMA table_info(Temp_VA_1718)"
   ]
  },
  {
   "cell_type": "code",
   "execution_count": 117,
   "id": "7cbeef36",
   "metadata": {},
   "outputs": [
    {
     "name": "stdout",
     "output_type": "stream",
     "text": [
      " * sqlite:///CMSD_db.db\n",
      "Done.\n"
     ]
    },
    {
     "data": {
      "text/plain": [
       "[]"
      ]
     },
     "execution_count": 117,
     "metadata": {},
     "output_type": "execute_result"
    }
   ],
   "source": [
    "%%sql\n",
    "CREATE TEMPORARY TABLE Combined_VA AS\n",
    "SELECT * FROM Temp_VA_1516\n",
    "UNION ALL\n",
    "SELECT * FROM Temp_VA_1617\n",
    "UNION ALL\n",
    "SELECT * FROM Temp_VA_1718;"
   ]
  },
  {
   "cell_type": "code",
   "execution_count": 118,
   "id": "8322594b",
   "metadata": {},
   "outputs": [
    {
     "name": "stdout",
     "output_type": "stream",
     "text": [
      " * sqlite:///CMSD_db.db\n",
      "Done.\n"
     ]
    },
    {
     "data": {
      "text/html": [
       "<table>\n",
       "    <tr>\n",
       "        <th>cid</th>\n",
       "        <th>name</th>\n",
       "        <th>type</th>\n",
       "        <th>notnull</th>\n",
       "        <th>dflt_value</th>\n",
       "        <th>pk</th>\n",
       "    </tr>\n",
       "    <tr>\n",
       "        <td>0</td>\n",
       "        <td>DistrictIRN</td>\n",
       "        <td>INT</td>\n",
       "        <td>0</td>\n",
       "        <td>None</td>\n",
       "        <td>0</td>\n",
       "    </tr>\n",
       "    <tr>\n",
       "        <td>1</td>\n",
       "        <td>DistrictName</td>\n",
       "        <td>TEXT</td>\n",
       "        <td>0</td>\n",
       "        <td>None</td>\n",
       "        <td>0</td>\n",
       "    </tr>\n",
       "    <tr>\n",
       "        <td>2</td>\n",
       "        <td>BuildingIRN</td>\n",
       "        <td>INT</td>\n",
       "        <td>0</td>\n",
       "        <td>None</td>\n",
       "        <td>0</td>\n",
       "    </tr>\n",
       "    <tr>\n",
       "        <td>3</td>\n",
       "        <td>OverallValueAddedGrade</td>\n",
       "        <td>TEXT</td>\n",
       "        <td>0</td>\n",
       "        <td>None</td>\n",
       "        <td>0</td>\n",
       "    </tr>\n",
       "    <tr>\n",
       "        <td>4</td>\n",
       "        <td>OverallComposite</td>\n",
       "        <td>REAL</td>\n",
       "        <td>0</td>\n",
       "        <td>None</td>\n",
       "        <td>0</td>\n",
       "    </tr>\n",
       "    <tr>\n",
       "        <td>5</td>\n",
       "        <td>SchoolYear</td>\n",
       "        <td></td>\n",
       "        <td>0</td>\n",
       "        <td>None</td>\n",
       "        <td>0</td>\n",
       "    </tr>\n",
       "</table>"
      ],
      "text/plain": [
       "[(0, 'DistrictIRN', 'INT', 0, None, 0),\n",
       " (1, 'DistrictName', 'TEXT', 0, None, 0),\n",
       " (2, 'BuildingIRN', 'INT', 0, None, 0),\n",
       " (3, 'OverallValueAddedGrade', 'TEXT', 0, None, 0),\n",
       " (4, 'OverallComposite', 'REAL', 0, None, 0),\n",
       " (5, 'SchoolYear', '', 0, None, 0)]"
      ]
     },
     "execution_count": 118,
     "metadata": {},
     "output_type": "execute_result"
    }
   ],
   "source": [
    "%%sql\n",
    "PRAGMA table_info(Combined_VA)"
   ]
  },
  {
   "cell_type": "markdown",
   "id": "a1d4d58c",
   "metadata": {},
   "source": [
    "# Final Output File\n",
    "At this point, I have 3 unioned tables which contain all of the data from each respective category - Achievement Building, Building Rating, and Value Added. The only missing piece currently is that SchoolYear is not defined as TEXT in Combined_Achievement or Combined_VA - however, I can address this once the tables are joined."
   ]
  },
  {
   "cell_type": "code",
   "execution_count": 190,
   "id": "c89d7fdc",
   "metadata": {},
   "outputs": [
    {
     "name": "stdout",
     "output_type": "stream",
     "text": [
      " * sqlite:///CMSD_db.db\n",
      "Done.\n"
     ]
    },
    {
     "data": {
      "text/plain": [
       "[]"
      ]
     },
     "execution_count": 190,
     "metadata": {},
     "output_type": "execute_result"
    }
   ],
   "source": [
    "%%sql\n",
    "CREATE TABLE Final_Output_Table AS\n",
    "SELECT \n",
    "    CA.BuildingIRN, \n",
    "    CA.BuildingName, \n",
    "    CA.DistrictIRN, \n",
    "    CA.DistrictName, \n",
    "    CA.PerformanceIndexScore, \n",
    "    CA.PerformanceIndexPercent,\n",
    "    CA.LetterGradeofPerformanceIndex,\n",
    "    CA.PercentofStudentsBelow,\n",
    "    CA.PercentofStudentsBasic,\n",
    "    CA.PercentofStudentsProficient,\n",
    "    CA.PercentofStudentsAccelerated,\n",
    "    CA.PercentofStudentsAdvanced,\n",
    "    CA.PercentofStudentsAdvancedPlus,\n",
    "    CBR.Address,\n",
    "    CBR.CityStateZip,\n",
    "    CBR.Enrollment,\n",
    "    CBR.LetterGradeofAchievementComponent, \n",
    "    CVA.OverallValueAddedGrade, \n",
    "    CVA.OverallComposite,\n",
    "    CA.SchoolYear\n",
    "FROM \n",
    "    Combined_Achievement CA\n",
    "INNER JOIN \n",
    "    Combined_Building_Ratings CBR \n",
    "    ON CA.BuildingIRN = CBR.BuildingIRN AND CA.SchoolYear = CBR.SchoolYear\n",
    "INNER JOIN \n",
    "    Combined_VA CVA \n",
    "    ON CA.BuildingIRN = CVA.BuildingIRN AND CA.SchoolYear = CVA.SchoolYear\n"
   ]
  },
  {
   "cell_type": "code",
   "execution_count": 189,
   "id": "d75f009d",
   "metadata": {},
   "outputs": [
    {
     "name": "stdout",
     "output_type": "stream",
     "text": [
      " * sqlite:///CMSD_db.db\n",
      "Done.\n"
     ]
    },
    {
     "data": {
      "text/plain": [
       "[]"
      ]
     },
     "execution_count": 189,
     "metadata": {},
     "output_type": "execute_result"
    }
   ],
   "source": [
    "%%sql\n",
    "DROP TABLE Final_Output_Table"
   ]
  },
  {
   "cell_type": "code",
   "execution_count": 191,
   "id": "67cc8d36",
   "metadata": {},
   "outputs": [
    {
     "name": "stdout",
     "output_type": "stream",
     "text": [
      " * sqlite:///CMSD_db.db\n",
      "Done.\n"
     ]
    },
    {
     "data": {
      "text/html": [
       "<table>\n",
       "    <tr>\n",
       "        <th>cid</th>\n",
       "        <th>name</th>\n",
       "        <th>type</th>\n",
       "        <th>notnull</th>\n",
       "        <th>dflt_value</th>\n",
       "        <th>pk</th>\n",
       "    </tr>\n",
       "    <tr>\n",
       "        <td>0</td>\n",
       "        <td>BuildingIRN</td>\n",
       "        <td>INT</td>\n",
       "        <td>0</td>\n",
       "        <td>None</td>\n",
       "        <td>0</td>\n",
       "    </tr>\n",
       "    <tr>\n",
       "        <td>1</td>\n",
       "        <td>BuildingName</td>\n",
       "        <td>TEXT</td>\n",
       "        <td>0</td>\n",
       "        <td>None</td>\n",
       "        <td>0</td>\n",
       "    </tr>\n",
       "    <tr>\n",
       "        <td>2</td>\n",
       "        <td>DistrictIRN</td>\n",
       "        <td>INT</td>\n",
       "        <td>0</td>\n",
       "        <td>None</td>\n",
       "        <td>0</td>\n",
       "    </tr>\n",
       "    <tr>\n",
       "        <td>3</td>\n",
       "        <td>DistrictName</td>\n",
       "        <td>TEXT</td>\n",
       "        <td>0</td>\n",
       "        <td>None</td>\n",
       "        <td>0</td>\n",
       "    </tr>\n",
       "    <tr>\n",
       "        <td>4</td>\n",
       "        <td>PerformanceIndexScore</td>\n",
       "        <td>TEXT</td>\n",
       "        <td>0</td>\n",
       "        <td>None</td>\n",
       "        <td>0</td>\n",
       "    </tr>\n",
       "    <tr>\n",
       "        <td>5</td>\n",
       "        <td>PerformanceIndexPercent</td>\n",
       "        <td>TEXT</td>\n",
       "        <td>0</td>\n",
       "        <td>None</td>\n",
       "        <td>0</td>\n",
       "    </tr>\n",
       "    <tr>\n",
       "        <td>6</td>\n",
       "        <td>LetterGradeofPerformanceIndex</td>\n",
       "        <td>TEXT</td>\n",
       "        <td>0</td>\n",
       "        <td>None</td>\n",
       "        <td>0</td>\n",
       "    </tr>\n",
       "    <tr>\n",
       "        <td>7</td>\n",
       "        <td>PercentofStudentsBelow</td>\n",
       "        <td>TEXT</td>\n",
       "        <td>0</td>\n",
       "        <td>None</td>\n",
       "        <td>0</td>\n",
       "    </tr>\n",
       "    <tr>\n",
       "        <td>8</td>\n",
       "        <td>PercentofStudentsBasic</td>\n",
       "        <td>TEXT</td>\n",
       "        <td>0</td>\n",
       "        <td>None</td>\n",
       "        <td>0</td>\n",
       "    </tr>\n",
       "    <tr>\n",
       "        <td>9</td>\n",
       "        <td>PercentofStudentsProficient</td>\n",
       "        <td>TEXT</td>\n",
       "        <td>0</td>\n",
       "        <td>None</td>\n",
       "        <td>0</td>\n",
       "    </tr>\n",
       "    <tr>\n",
       "        <td>10</td>\n",
       "        <td>PercentofStudentsAccelerated</td>\n",
       "        <td>TEXT</td>\n",
       "        <td>0</td>\n",
       "        <td>None</td>\n",
       "        <td>0</td>\n",
       "    </tr>\n",
       "    <tr>\n",
       "        <td>11</td>\n",
       "        <td>PercentofStudentsAdvanced</td>\n",
       "        <td>TEXT</td>\n",
       "        <td>0</td>\n",
       "        <td>None</td>\n",
       "        <td>0</td>\n",
       "    </tr>\n",
       "    <tr>\n",
       "        <td>12</td>\n",
       "        <td>PercentofStudentsAdvancedPlus</td>\n",
       "        <td>TEXT</td>\n",
       "        <td>0</td>\n",
       "        <td>None</td>\n",
       "        <td>0</td>\n",
       "    </tr>\n",
       "    <tr>\n",
       "        <td>13</td>\n",
       "        <td>Address</td>\n",
       "        <td>TEXT</td>\n",
       "        <td>0</td>\n",
       "        <td>None</td>\n",
       "        <td>0</td>\n",
       "    </tr>\n",
       "    <tr>\n",
       "        <td>14</td>\n",
       "        <td>CityStateZip</td>\n",
       "        <td>TEXT</td>\n",
       "        <td>0</td>\n",
       "        <td>None</td>\n",
       "        <td>0</td>\n",
       "    </tr>\n",
       "    <tr>\n",
       "        <td>15</td>\n",
       "        <td>Enrollment</td>\n",
       "        <td>INT</td>\n",
       "        <td>0</td>\n",
       "        <td>None</td>\n",
       "        <td>0</td>\n",
       "    </tr>\n",
       "    <tr>\n",
       "        <td>16</td>\n",
       "        <td>LetterGradeofAchievementComponent</td>\n",
       "        <td>TEXT</td>\n",
       "        <td>0</td>\n",
       "        <td>None</td>\n",
       "        <td>0</td>\n",
       "    </tr>\n",
       "    <tr>\n",
       "        <td>17</td>\n",
       "        <td>OverallValueAddedGrade</td>\n",
       "        <td>TEXT</td>\n",
       "        <td>0</td>\n",
       "        <td>None</td>\n",
       "        <td>0</td>\n",
       "    </tr>\n",
       "    <tr>\n",
       "        <td>18</td>\n",
       "        <td>OverallComposite</td>\n",
       "        <td>REAL</td>\n",
       "        <td>0</td>\n",
       "        <td>None</td>\n",
       "        <td>0</td>\n",
       "    </tr>\n",
       "    <tr>\n",
       "        <td>19</td>\n",
       "        <td>SchoolYear</td>\n",
       "        <td></td>\n",
       "        <td>0</td>\n",
       "        <td>None</td>\n",
       "        <td>0</td>\n",
       "    </tr>\n",
       "</table>"
      ],
      "text/plain": [
       "[(0, 'BuildingIRN', 'INT', 0, None, 0),\n",
       " (1, 'BuildingName', 'TEXT', 0, None, 0),\n",
       " (2, 'DistrictIRN', 'INT', 0, None, 0),\n",
       " (3, 'DistrictName', 'TEXT', 0, None, 0),\n",
       " (4, 'PerformanceIndexScore', 'TEXT', 0, None, 0),\n",
       " (5, 'PerformanceIndexPercent', 'TEXT', 0, None, 0),\n",
       " (6, 'LetterGradeofPerformanceIndex', 'TEXT', 0, None, 0),\n",
       " (7, 'PercentofStudentsBelow', 'TEXT', 0, None, 0),\n",
       " (8, 'PercentofStudentsBasic', 'TEXT', 0, None, 0),\n",
       " (9, 'PercentofStudentsProficient', 'TEXT', 0, None, 0),\n",
       " (10, 'PercentofStudentsAccelerated', 'TEXT', 0, None, 0),\n",
       " (11, 'PercentofStudentsAdvanced', 'TEXT', 0, None, 0),\n",
       " (12, 'PercentofStudentsAdvancedPlus', 'TEXT', 0, None, 0),\n",
       " (13, 'Address', 'TEXT', 0, None, 0),\n",
       " (14, 'CityStateZip', 'TEXT', 0, None, 0),\n",
       " (15, 'Enrollment', 'INT', 0, None, 0),\n",
       " (16, 'LetterGradeofAchievementComponent', 'TEXT', 0, None, 0),\n",
       " (17, 'OverallValueAddedGrade', 'TEXT', 0, None, 0),\n",
       " (18, 'OverallComposite', 'REAL', 0, None, 0),\n",
       " (19, 'SchoolYear', '', 0, None, 0)]"
      ]
     },
     "execution_count": 191,
     "metadata": {},
     "output_type": "execute_result"
    }
   ],
   "source": [
    "%%sql\n",
    "PRAGMA table_info(Final_Output_Table)"
   ]
  },
  {
   "cell_type": "code",
   "execution_count": 221,
   "id": "166528b1",
   "metadata": {},
   "outputs": [
    {
     "name": "stdout",
     "output_type": "stream",
     "text": [
      " * sqlite:///CMSD_db.db\n",
      "Done.\n"
     ]
    },
    {
     "data": {
      "text/html": [
       "<table>\n",
       "    <tr>\n",
       "        <th>BuildingIRN</th>\n",
       "        <th>BuildingName</th>\n",
       "        <th>DistrictIRN</th>\n",
       "        <th>DistrictName</th>\n",
       "        <th>PerformanceIndexScore</th>\n",
       "        <th>PerformanceIndexPercent</th>\n",
       "        <th>LetterGradeofPerformanceIndex</th>\n",
       "        <th>PercentofStudentsBelow</th>\n",
       "        <th>PercentofStudentsBasic</th>\n",
       "        <th>PercentofStudentsProficient</th>\n",
       "        <th>PercentofStudentsAccelerated</th>\n",
       "        <th>PercentofStudentsAdvanced</th>\n",
       "        <th>PercentofStudentsAdvancedPlus</th>\n",
       "        <th>Address</th>\n",
       "        <th>CityStateZip</th>\n",
       "        <th>Enrollment</th>\n",
       "        <th>LetterGradeofAchievementComponent</th>\n",
       "        <th>OverallValueAddedGrade</th>\n",
       "        <th>OverallComposite</th>\n",
       "        <th>SchoolYear</th>\n",
       "    </tr>\n",
       "    <tr>\n",
       "        <td>224</td>\n",
       "        <td>Adlai Stevenson School</td>\n",
       "        <td>43786</td>\n",
       "        <td>Cleveland Municipal</td>\n",
       "        <td>43.903</td>\n",
       "        <td>36.6</td>\n",
       "        <td>F</td>\n",
       "        <td>69.9</td>\n",
       "        <td>19</td>\n",
       "        <td>7.6</td>\n",
       "        <td>2.5</td>\n",
       "        <td>1</td>\n",
       "        <td>0</td>\n",
       "        <td>18300 Woda Avenue</td>\n",
       "        <td>Cleveland, OH, 44122-6441</td>\n",
       "        <td>430</td>\n",
       "        <td>F</td>\n",
       "        <td>F</td>\n",
       "        <td>-6.56</td>\n",
       "        <td>2015-2016</td>\n",
       "    </tr>\n",
       "</table>"
      ],
      "text/plain": [
       "[(224, 'Adlai Stevenson School', 43786, 'Cleveland Municipal', '43.903', '36.6', 'F', '69.9', '19', '7.6', '2.5', '1', '0', '18300 Woda Avenue', 'Cleveland, OH, 44122-6441', 430, 'F', 'F', -6.56, '2015-2016')]"
      ]
     },
     "execution_count": 221,
     "metadata": {},
     "output_type": "execute_result"
    }
   ],
   "source": [
    "%%sql\n",
    "SELECT *\n",
    "FROM Final_Output_Table\n",
    "LIMIT 1"
   ]
  },
  {
   "cell_type": "markdown",
   "id": "ee3f1110",
   "metadata": {},
   "source": [
    "### Checking the final output table and data validation"
   ]
  },
  {
   "cell_type": "code",
   "execution_count": 193,
   "id": "7f73bf8b",
   "metadata": {},
   "outputs": [
    {
     "name": "stdout",
     "output_type": "stream",
     "text": [
      " * sqlite:///CMSD_db.db\n",
      "Done.\n"
     ]
    },
    {
     "data": {
      "text/html": [
       "<table>\n",
       "    <tr>\n",
       "        <th>TotalRows</th>\n",
       "    </tr>\n",
       "    <tr>\n",
       "        <td>340</td>\n",
       "    </tr>\n",
       "</table>"
      ],
      "text/plain": [
       "[(340,)]"
      ]
     },
     "execution_count": 193,
     "metadata": {},
     "output_type": "execute_result"
    }
   ],
   "source": [
    "%%sql\n",
    "SELECT COUNT(*) AS TotalRows FROM Final_Output_Table;"
   ]
  },
  {
   "cell_type": "code",
   "execution_count": 194,
   "id": "87d30926",
   "metadata": {},
   "outputs": [
    {
     "name": "stdout",
     "output_type": "stream",
     "text": [
      " * sqlite:///CMSD_db.db\n",
      "Done.\n"
     ]
    },
    {
     "data": {
      "text/html": [
       "<table>\n",
       "    <tr>\n",
       "        <th>UniqueDistrictNames</th>\n",
       "        <th>UniqueSchoolYears</th>\n",
       "    </tr>\n",
       "    <tr>\n",
       "        <td>1</td>\n",
       "        <td>3</td>\n",
       "    </tr>\n",
       "</table>"
      ],
      "text/plain": [
       "[(1, 3)]"
      ]
     },
     "execution_count": 194,
     "metadata": {},
     "output_type": "execute_result"
    }
   ],
   "source": [
    "%%sql\n",
    "SELECT COUNT(DISTINCT DistrictName) AS UniqueDistrictNames, COUNT(DISTINCT SchoolYear) AS UniqueSchoolYears FROM Final_Output_Table;"
   ]
  },
  {
   "cell_type": "code",
   "execution_count": 129,
   "id": "c5e7ab35",
   "metadata": {},
   "outputs": [
    {
     "name": "stdout",
     "output_type": "stream",
     "text": [
      " * sqlite:///CMSD_db.db\n",
      "Done.\n"
     ]
    },
    {
     "data": {
      "text/html": [
       "<table>\n",
       "    <tr>\n",
       "        <th>NullCount</th>\n",
       "    </tr>\n",
       "    <tr>\n",
       "        <td>0</td>\n",
       "    </tr>\n",
       "</table>"
      ],
      "text/plain": [
       "[(0,)]"
      ]
     },
     "execution_count": 129,
     "metadata": {},
     "output_type": "execute_result"
    }
   ],
   "source": [
    "%%sql\n",
    "SELECT COUNT(*) AS NullCount FROM Final_Output_Table WHERE BuildingIRN IS NULL;"
   ]
  },
  {
   "cell_type": "code",
   "execution_count": 130,
   "id": "a57a1182",
   "metadata": {},
   "outputs": [
    {
     "name": "stdout",
     "output_type": "stream",
     "text": [
      " * sqlite:///CMSD_db.db\n",
      "Done.\n"
     ]
    },
    {
     "data": {
      "text/html": [
       "<table>\n",
       "    <tr>\n",
       "        <th>BuildingIRN</th>\n",
       "        <th>BuildingName</th>\n",
       "        <th>NumOccurrences</th>\n",
       "    </tr>\n",
       "</table>"
      ],
      "text/plain": [
       "[]"
      ]
     },
     "execution_count": 130,
     "metadata": {},
     "output_type": "execute_result"
    }
   ],
   "source": [
    "%%sql\n",
    "SELECT BuildingIRN, BuildingName, COUNT(*) AS NumOccurrences \n",
    "FROM Final_Output_Table \n",
    "GROUP BY BuildingIRN, BuildingName \n",
    "HAVING COUNT(*) > 3; -- or change to \"= 3\" to check if there are exactly 3 occurrences"
   ]
  },
  {
   "cell_type": "code",
   "execution_count": 209,
   "id": "3aa37df0",
   "metadata": {},
   "outputs": [
    {
     "name": "stdout",
     "output_type": "stream",
     "text": [
      " * sqlite:///CMSD_db.db\n",
      "Done.\n"
     ]
    },
    {
     "data": {
      "text/html": [
       "<table>\n",
       "    <tr>\n",
       "        <th>BuildingIRN</th>\n",
       "        <th>BuildingName</th>\n",
       "        <th>DistrictIRN</th>\n",
       "        <th>DistrictName</th>\n",
       "        <th>PerformanceIndexScore</th>\n",
       "        <th>PerformanceIndexPercent</th>\n",
       "        <th>LetterGradeofPerformanceIndex</th>\n",
       "        <th>PercentofStudentsBelow</th>\n",
       "        <th>PercentofStudentsBasic</th>\n",
       "        <th>PercentofStudentsProficient</th>\n",
       "        <th>PercentofStudentsAccelerated</th>\n",
       "        <th>PercentofStudentsAdvanced</th>\n",
       "        <th>PercentofStudentsAdvancedPlus</th>\n",
       "        <th>Address</th>\n",
       "        <th>CityStateZip</th>\n",
       "        <th>Enrollment</th>\n",
       "        <th>LetterGradeofAchievementComponent</th>\n",
       "        <th>OverallValueAddedGrade</th>\n",
       "        <th>OverallComposite</th>\n",
       "        <th>SchoolYear</th>\n",
       "    </tr>\n",
       "    <tr>\n",
       "        <td>224</td>\n",
       "        <td>Adlai Stevenson School</td>\n",
       "        <td>43786</td>\n",
       "        <td>Cleveland Municipal</td>\n",
       "        <td>43.903</td>\n",
       "        <td>36.6</td>\n",
       "        <td>F</td>\n",
       "        <td>69.9</td>\n",
       "        <td>19</td>\n",
       "        <td>7.6</td>\n",
       "        <td>2.5</td>\n",
       "        <td>1</td>\n",
       "        <td>0</td>\n",
       "        <td>18300 Woda Avenue</td>\n",
       "        <td>Cleveland, OH, 44122-6441</td>\n",
       "        <td>430</td>\n",
       "        <td>F</td>\n",
       "        <td>F</td>\n",
       "        <td>-6.56</td>\n",
       "        <td>2015-2016</td>\n",
       "    </tr>\n",
       "</table>"
      ],
      "text/plain": [
       "[(224, 'Adlai Stevenson School', 43786, 'Cleveland Municipal', '43.903', '36.6', 'F', '69.9', '19', '7.6', '2.5', '1', '0', '18300 Woda Avenue', 'Cleveland, OH, 44122-6441', 430, 'F', 'F', -6.56, '2015-2016')]"
      ]
     },
     "execution_count": 209,
     "metadata": {},
     "output_type": "execute_result"
    }
   ],
   "source": [
    "%%sql\n",
    "SELECT *\n",
    "FROM Final_Output_Table \n",
    "LIMIT 1"
   ]
  },
  {
   "cell_type": "markdown",
   "id": "f5477840",
   "metadata": {},
   "source": [
    "In order to save the final output table, the following command needs to be executed in terminal (or command prompt, although I did this project using Mac)."
   ]
  },
  {
   "cell_type": "code",
   "execution_count": null,
   "id": "fd0bdb5f",
   "metadata": {},
   "outputs": [],
   "source": [
    "sqlite3 -header -csv 'CMSD_db.db' \"SELECT * FROM Final_Output_Table;\" > final_output.csv"
   ]
  },
  {
   "cell_type": "markdown",
   "id": "395e1c90",
   "metadata": {},
   "source": [
    "## Python Code for creating my pivot table\n",
    "As I was working through my analysis, I realized I would like to have some data for PIP and VA by year, as well the changes each experienced year to year. I considered doing this in Excel, but opted for Python for repeatability. The general process is taking the data from each year and placing it into columns based on each year - so I ended up with columns for PIP in each school year, Composite Score for each year, and VA Grade for each year."
   ]
  },
  {
   "cell_type": "code",
   "execution_count": 224,
   "id": "b56c19ae",
   "metadata": {},
   "outputs": [],
   "source": [
    "# Load my csv as a Pandas dataframe for manipulation\n",
    "import pandas as pd\n",
    "data = '/Users/camerongomez/Desktop/CMSD Downloads/final_output.csv'\n",
    "cmsd_data = pd.read_csv(data)"
   ]
  },
  {
   "cell_type": "code",
   "execution_count": 225,
   "id": "ae4f6700",
   "metadata": {},
   "outputs": [
    {
     "data": {
      "text/plain": [
       "array(['2015', '2016', '2017'], dtype=object)"
      ]
     },
     "execution_count": 225,
     "metadata": {},
     "output_type": "execute_result"
    }
   ],
   "source": [
    "# Creating the year columns\n",
    "cmsd_data['Year'] = cmsd_data['SchoolYear'].str.split('-').str[0]\n",
    "\n",
    "cmsd_data['Year'].unique()"
   ]
  },
  {
   "cell_type": "code",
   "execution_count": 226,
   "id": "0bf98e18",
   "metadata": {},
   "outputs": [
    {
     "data": {
      "text/html": [
       "<div>\n",
       "<style scoped>\n",
       "    .dataframe tbody tr th:only-of-type {\n",
       "        vertical-align: middle;\n",
       "    }\n",
       "\n",
       "    .dataframe tbody tr th {\n",
       "        vertical-align: top;\n",
       "    }\n",
       "\n",
       "    .dataframe thead th {\n",
       "        text-align: right;\n",
       "    }\n",
       "</style>\n",
       "<table border=\"1\" class=\"dataframe\">\n",
       "  <thead>\n",
       "    <tr style=\"text-align: right;\">\n",
       "      <th></th>\n",
       "      <th>BuildingIRN</th>\n",
       "      <th>PIP_2015</th>\n",
       "      <th>PIP_2016</th>\n",
       "      <th>PIP_2017</th>\n",
       "      <th>Letter_Grade_2015</th>\n",
       "      <th>Letter_Grade_2016</th>\n",
       "      <th>Letter_Grade_2017</th>\n",
       "      <th>Comp_2015</th>\n",
       "      <th>Comp_2016</th>\n",
       "      <th>Comp_2017</th>\n",
       "      <th>VA_2015</th>\n",
       "      <th>VA_2016</th>\n",
       "      <th>VA_2017</th>\n",
       "    </tr>\n",
       "  </thead>\n",
       "  <tbody>\n",
       "    <tr>\n",
       "      <th>0</th>\n",
       "      <td>224</td>\n",
       "      <td>36.6</td>\n",
       "      <td>41.1</td>\n",
       "      <td>40.1</td>\n",
       "      <td>F</td>\n",
       "      <td>F</td>\n",
       "      <td>F</td>\n",
       "      <td>-6.56</td>\n",
       "      <td>-8.05</td>\n",
       "      <td>-8.39</td>\n",
       "      <td>F</td>\n",
       "      <td>F</td>\n",
       "      <td>F</td>\n",
       "    </tr>\n",
       "  </tbody>\n",
       "</table>\n",
       "</div>"
      ],
      "text/plain": [
       "   BuildingIRN PIP_2015 PIP_2016 PIP_2017 Letter_Grade_2015 Letter_Grade_2016  \\\n",
       "0          224     36.6     41.1     40.1                 F                 F   \n",
       "\n",
       "  Letter_Grade_2017 Comp_2015 Comp_2016 Comp_2017 VA_2015 VA_2016 VA_2017  \n",
       "0                 F     -6.56     -8.05     -8.39       F       F       F  "
      ]
     },
     "execution_count": 226,
     "metadata": {},
     "output_type": "execute_result"
    }
   ],
   "source": [
    "# Filtering for schools for the subset\n",
    "first_school = cmsd_data.iloc[0]['BuildingIRN']\n",
    "subset_data = cmsd_data[cmsd_data['BuildingIRN'] == first_school]\n",
    "\n",
    "# pivot column naming\n",
    "pivot_columns = ['PerformanceIndexPercent', 'LetterGradeofPerformanceIndex', 'OverallComposite', 'OverallValueAddedGrade']\n",
    "\n",
    "# Create a dictionary for renaming columns after pivoting\n",
    "rename_dict = {\n",
    "    'PerformanceIndexPercent': 'PIP',\n",
    "    'LetterGradeofPerformanceIndex': 'Letter_Grade',\n",
    "    'OverallComposite': 'Comp',\n",
    "    'OverallValueAddedGrade': 'VA'\n",
    "}\n",
    "\n",
    "pivoted_data = subset_data.pivot(index = 'BuildingIRN', columns = 'Year', values = pivot_columns)\n",
    "\n",
    "# Rename the columns\n",
    "pivoted_data.columns = ['_'.join([rename_dict[col[0]], col[1]]) for col in pivoted_data.columns]\n",
    "\n",
    "# Reset index to make 'BuildingIRN' a column again - I made a series of mistakes after this in my first attempt.\n",
    "pivoted_data.reset_index(inplace=True)\n",
    "\n",
    "pivoted_data"
   ]
  },
  {
   "cell_type": "markdown",
   "id": "98c4d4d7",
   "metadata": {},
   "source": [
    "I had some issues with this section due to a naming error with the dataframe index and needed to get some help. It works as intended, but took me a little while."
   ]
  },
  {
   "cell_type": "code",
   "execution_count": 235,
   "id": "c6a98f06",
   "metadata": {},
   "outputs": [
    {
     "data": {
      "text/plain": [
       "['Letter_Grade_2015',\n",
       " 'Letter_Grade_2016',\n",
       " 'Letter_Grade_2017',\n",
       " 'Comp_2015',\n",
       " 'Comp_2016',\n",
       " 'Comp_2017',\n",
       " 'VA_2015',\n",
       " 'VA_2016',\n",
       " 'VA_2017',\n",
       " 'PIP_2015',\n",
       " 'PIP_2016',\n",
       " 'PIP_2017']"
      ]
     },
     "execution_count": 235,
     "metadata": {},
     "output_type": "execute_result"
    }
   ],
   "source": [
    "# Pivot the data for all schools to have columns for each year's PIP, Letter Grade, Overall Composite, and VA Grade.\n",
    "pivoted_data_full = cmsd_data.pivot_table(index=['BuildingIRN', 'BuildingName', 'DistrictIRN'], \n",
    "                                           columns='Year', \n",
    "                                           values=pivot_columns,\n",
    "                                           aggfunc='first')  # using 'first' to keep the first occurrence in case of duplicates\n",
    "\n",
    "# Flatten columns\n",
    "pivoted_data_full.columns = ['_'.join(col).strip() for col in pivoted_data_full.columns.values]\n",
    "\n",
    "# Correct the column names\n",
    "corrected_columns = {}\n",
    "for col in pivoted_data_full.columns:\n",
    "    # Correct the columns...\n",
    "    if '_' in col and col.split('_')[0] in rename_dict:\n",
    "        main_part, year = col.rsplit('_', 1)\n",
    "        corrected_columns[col] = f\"{rename_dict.get(main_part, main_part)}_{year}\"  # Use the rename dict to get the correct main part\n",
    "\n",
    "# Rename the columns\n",
    "pivoted_data_full.rename(columns=corrected_columns, inplace=True)\n",
    "\n",
    "# Convert the PIP and Comp columns to numeric type for calculations (they were objects)\n",
    "for col in pivoted_data_full.columns:\n",
    "    if \"PIP_\" in col or \"Comp_\" in col:\n",
    "        pivoted_data_full[col] = pd.to_numeric(pivoted_data_full[col], errors='coerce')\n",
    "\n",
    "# Confirm column names\n",
    "pivoted_data_full.columns.tolist()"
   ]
  },
  {
   "cell_type": "code",
   "execution_count": 236,
   "id": "759ef2e0",
   "metadata": {},
   "outputs": [
    {
     "data": {
      "text/html": [
       "<div>\n",
       "<style scoped>\n",
       "    .dataframe tbody tr th:only-of-type {\n",
       "        vertical-align: middle;\n",
       "    }\n",
       "\n",
       "    .dataframe tbody tr th {\n",
       "        vertical-align: top;\n",
       "    }\n",
       "\n",
       "    .dataframe thead th {\n",
       "        text-align: right;\n",
       "    }\n",
       "</style>\n",
       "<table border=\"1\" class=\"dataframe\">\n",
       "  <thead>\n",
       "    <tr style=\"text-align: right;\">\n",
       "      <th></th>\n",
       "      <th>BuildingIRN</th>\n",
       "      <th>BuildingName</th>\n",
       "      <th>DistrictIRN</th>\n",
       "      <th>Letter_Grade_2015</th>\n",
       "      <th>Letter_Grade_2016</th>\n",
       "      <th>Letter_Grade_2017</th>\n",
       "      <th>Comp_2015</th>\n",
       "      <th>Comp_2016</th>\n",
       "      <th>Comp_2017</th>\n",
       "      <th>VA_2015</th>\n",
       "      <th>VA_2016</th>\n",
       "      <th>VA_2017</th>\n",
       "      <th>PIP_2015</th>\n",
       "      <th>PIP_2016</th>\n",
       "      <th>PIP_2017</th>\n",
       "    </tr>\n",
       "  </thead>\n",
       "  <tbody>\n",
       "    <tr>\n",
       "      <th>0</th>\n",
       "      <td>224</td>\n",
       "      <td>Adlai Stevenson School</td>\n",
       "      <td>43786</td>\n",
       "      <td>F</td>\n",
       "      <td>F</td>\n",
       "      <td>F</td>\n",
       "      <td>-6.56</td>\n",
       "      <td>-8.05</td>\n",
       "      <td>-8.39</td>\n",
       "      <td>F</td>\n",
       "      <td>F</td>\n",
       "      <td>F</td>\n",
       "      <td>36.6</td>\n",
       "      <td>41.1</td>\n",
       "      <td>40.1</td>\n",
       "    </tr>\n",
       "    <tr>\n",
       "      <th>1</th>\n",
       "      <td>318</td>\n",
       "      <td>Menlo Park Academy</td>\n",
       "      <td>43786</td>\n",
       "      <td>NaN</td>\n",
       "      <td>B</td>\n",
       "      <td>A</td>\n",
       "      <td>NaN</td>\n",
       "      <td>-10.14</td>\n",
       "      <td>-4.99</td>\n",
       "      <td>NaN</td>\n",
       "      <td>F</td>\n",
       "      <td>F</td>\n",
       "      <td>NaN</td>\n",
       "      <td>88.7</td>\n",
       "      <td>90.7</td>\n",
       "    </tr>\n",
       "    <tr>\n",
       "      <th>2</th>\n",
       "      <td>489</td>\n",
       "      <td>Almira</td>\n",
       "      <td>43786</td>\n",
       "      <td>F</td>\n",
       "      <td>F</td>\n",
       "      <td>F</td>\n",
       "      <td>-6.16</td>\n",
       "      <td>-9.32</td>\n",
       "      <td>-7.71</td>\n",
       "      <td>F</td>\n",
       "      <td>F</td>\n",
       "      <td>F</td>\n",
       "      <td>38.7</td>\n",
       "      <td>39.0</td>\n",
       "      <td>41.6</td>\n",
       "    </tr>\n",
       "  </tbody>\n",
       "</table>\n",
       "</div>"
      ],
      "text/plain": [
       "   BuildingIRN            BuildingName  DistrictIRN Letter_Grade_2015  \\\n",
       "0          224  Adlai Stevenson School        43786                 F   \n",
       "1          318      Menlo Park Academy        43786               NaN   \n",
       "2          489                  Almira        43786                 F   \n",
       "\n",
       "  Letter_Grade_2016 Letter_Grade_2017  Comp_2015  Comp_2016  Comp_2017  \\\n",
       "0                 F                 F      -6.56      -8.05      -8.39   \n",
       "1                 B                 A        NaN     -10.14      -4.99   \n",
       "2                 F                 F      -6.16      -9.32      -7.71   \n",
       "\n",
       "  VA_2015 VA_2016 VA_2017  PIP_2015  PIP_2016  PIP_2017  \n",
       "0       F       F       F      36.6      41.1      40.1  \n",
       "1     NaN       F       F       NaN      88.7      90.7  \n",
       "2       F       F       F      38.7      39.0      41.6  "
      ]
     },
     "execution_count": 236,
     "metadata": {},
     "output_type": "execute_result"
    }
   ],
   "source": [
    "# Reset the index\n",
    "pivoted_data_full.reset_index(inplace=True)\n",
    "\n",
    "# Check df\n",
    "pivoted_data_full.head(3)"
   ]
  },
  {
   "cell_type": "code",
   "execution_count": null,
   "id": "3dcb25bc",
   "metadata": {},
   "outputs": [],
   "source": [
    "# Function to calculate year-to-year changes with handling for missing data - I needed help with this section\n",
    "def calculate_yearly_changes(row, column_prefix, years):\n",
    "    changes = {}\n",
    "    for i in range(len(years) - 1):\n",
    "        year1, year2 = years[i], years[i + 1]\n",
    "        col1, col2 = f\"{column_prefix}_{year1}\", f\"{column_prefix}_{year2}\"\n",
    "        change_col = f\"{column_prefix}_Change_{year1[-2:]}-{year2[-2:]}\"  # e.g., PIP_Change_16-17\n",
    "\n",
    "        # Calculate the change if both years have data, else set as NaN\n",
    "        if pd.notnull(row[col1]) and pd.notnull(row[col2]):\n",
    "            changes[change_col] = row[col2] - row[col1]\n",
    "        else:\n",
    "            changes[change_col] = float('nan')  # Set as NaN to indicate missing data\n",
    "    return pd.Series(changes)\n",
    "# Calculate the year-to-year changes for PIP and Overall Composite\n",
    "years = ['2015', '2016', '2017']\n",
    "pivoted_data_full = pivoted_data_full.join(pivoted_data_full.apply(lambda row: calculate_yearly_changes(row, 'PIP', years), axis=1))\n",
    "pivoted_data_full = pivoted_data_full.join(pivoted_data_full.apply(lambda row: calculate_yearly_changes(row, 'Comp', years), axis=1))\n",
    "\n",
    "# Display the first few rows of the dataset\n",
    "pivoted_data_full.head(3)"
   ]
  },
  {
   "cell_type": "code",
   "execution_count": null,
   "id": "4bfb71a3",
   "metadata": {},
   "outputs": [],
   "source": [
    "# Calculate the year-to-year changes for PIP and Overall Composite\n",
    "years = ['2015', '2016', '2017']\n",
    "pivoted_data_full = pivoted_data_full.join(pivoted_data_full.apply(lambda row: calculate_yearly_changes(row, 'PIP', years), axis=1))\n",
    "pivoted_data_full = pivoted_data_full.join(pivoted_data_full.apply(lambda row: calculate_yearly_changes(row, 'Comp', years), axis=1))\n",
    "\n",
    "# Display the first few rows of the dataset to verify the new columns and calculations\n",
    "pivoted_data_full.head(3)"
   ]
  },
  {
   "cell_type": "code",
   "execution_count": 239,
   "id": "6ed67ca0",
   "metadata": {},
   "outputs": [
    {
     "data": {
      "text/plain": [
       "'/Users/camerongomez/Desktop/CMSD Downloads/final.csv'"
      ]
     },
     "execution_count": 239,
     "metadata": {},
     "output_type": "execute_result"
    }
   ],
   "source": [
    "# Saving the transformed dataset\n",
    "output_file_path = '/Users/camerongomez/Desktop/CMSD Downloads/pivot_CMSD.csv'\n",
    "\n",
    "# DataFrame to a CSV file\n",
    "pivoted_data_full.to_csv(output_file_path, index=False)\n",
    "\n",
    "output_file_path\n"
   ]
  }
 ],
 "metadata": {
  "kernelspec": {
   "display_name": "Python 3 (ipykernel)",
   "language": "python",
   "name": "python3"
  },
  "language_info": {
   "codemirror_mode": {
    "name": "ipython",
    "version": 3
   },
   "file_extension": ".py",
   "mimetype": "text/x-python",
   "name": "python",
   "nbconvert_exporter": "python",
   "pygments_lexer": "ipython3",
   "version": "3.9.13"
  }
 },
 "nbformat": 4,
 "nbformat_minor": 5
}
